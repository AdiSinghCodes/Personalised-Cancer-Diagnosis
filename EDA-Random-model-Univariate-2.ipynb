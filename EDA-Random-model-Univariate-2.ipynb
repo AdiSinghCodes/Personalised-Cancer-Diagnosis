{
 "cells": [
  {
   "cell_type": "code",
   "execution_count": 1,
   "id": "c78a0b58",
   "metadata": {},
   "outputs": [],
   "source": [
    "import pandas as pd\n",
    "import matplotlib.pyplot as plt\n",
    "from nltk.corpus import stopwords\n",
    "import re\n",
    "import time\n",
    "from sklearn.model_selection import train_test_split\n",
    "import numpy as np\n",
    "import seaborn as sns\n",
    "from sklearn.metrics import log_loss, confusion_matrix\n",
    "from sklearn.feature_extraction.text import CountVectorizer\n",
    "from sklearn.linear_model import SGDClassifier\n",
    "from sklearn.calibration import CalibratedClassifierCV\n",
    "from collections import defaultdict,Counter\n",
    "from sklearn.preprocessing import normalize\n"
   ]
  },
  {
   "cell_type": "code",
   "execution_count": 2,
   "id": "52f38b28",
   "metadata": {},
   "outputs": [
    {
     "name": "stdout",
     "output_type": "stream",
     "text": [
      "Number of data points :  3321\n",
      "Number of features :  4\n",
      "Features :  ['ID' 'Gene' 'Variation' 'Class']\n"
     ]
    },
    {
     "data": {
      "text/html": [
       "<div>\n",
       "<style scoped>\n",
       "    .dataframe tbody tr th:only-of-type {\n",
       "        vertical-align: middle;\n",
       "    }\n",
       "\n",
       "    .dataframe tbody tr th {\n",
       "        vertical-align: top;\n",
       "    }\n",
       "\n",
       "    .dataframe thead th {\n",
       "        text-align: right;\n",
       "    }\n",
       "</style>\n",
       "<table border=\"1\" class=\"dataframe\">\n",
       "  <thead>\n",
       "    <tr style=\"text-align: right;\">\n",
       "      <th></th>\n",
       "      <th>ID</th>\n",
       "      <th>Gene</th>\n",
       "      <th>Variation</th>\n",
       "      <th>Class</th>\n",
       "    </tr>\n",
       "  </thead>\n",
       "  <tbody>\n",
       "    <tr>\n",
       "      <th>0</th>\n",
       "      <td>0</td>\n",
       "      <td>FAM58A</td>\n",
       "      <td>Truncating Mutations</td>\n",
       "      <td>1</td>\n",
       "    </tr>\n",
       "    <tr>\n",
       "      <th>1</th>\n",
       "      <td>1</td>\n",
       "      <td>CBL</td>\n",
       "      <td>W802*</td>\n",
       "      <td>2</td>\n",
       "    </tr>\n",
       "    <tr>\n",
       "      <th>2</th>\n",
       "      <td>2</td>\n",
       "      <td>CBL</td>\n",
       "      <td>Q249E</td>\n",
       "      <td>2</td>\n",
       "    </tr>\n",
       "    <tr>\n",
       "      <th>3</th>\n",
       "      <td>3</td>\n",
       "      <td>CBL</td>\n",
       "      <td>N454D</td>\n",
       "      <td>3</td>\n",
       "    </tr>\n",
       "    <tr>\n",
       "      <th>4</th>\n",
       "      <td>4</td>\n",
       "      <td>CBL</td>\n",
       "      <td>L399V</td>\n",
       "      <td>4</td>\n",
       "    </tr>\n",
       "  </tbody>\n",
       "</table>\n",
       "</div>"
      ],
      "text/plain": [
       "   ID    Gene             Variation  Class\n",
       "0   0  FAM58A  Truncating Mutations      1\n",
       "1   1     CBL                 W802*      2\n",
       "2   2     CBL                 Q249E      2\n",
       "3   3     CBL                 N454D      3\n",
       "4   4     CBL                 L399V      4"
      ]
     },
     "execution_count": 2,
     "metadata": {},
     "output_type": "execute_result"
    }
   ],
   "source": [
    "data = pd.read_csv('training_variants')\n",
    "print('Number of data points : ', data.shape[0])\n",
    "print('Number of features : ', data.shape[1])\n",
    "print('Features : ', data.columns.values)\n",
    "data.head()"
   ]
  },
  {
   "cell_type": "code",
   "execution_count": 3,
   "id": "59f41762",
   "metadata": {},
   "outputs": [
    {
     "name": "stdout",
     "output_type": "stream",
     "text": [
      "Number of data points :  3321\n",
      "Number of features :  2\n",
      "Features :  ['ID' 'TEXT']\n"
     ]
    },
    {
     "data": {
      "text/html": [
       "<div>\n",
       "<style scoped>\n",
       "    .dataframe tbody tr th:only-of-type {\n",
       "        vertical-align: middle;\n",
       "    }\n",
       "\n",
       "    .dataframe tbody tr th {\n",
       "        vertical-align: top;\n",
       "    }\n",
       "\n",
       "    .dataframe thead th {\n",
       "        text-align: right;\n",
       "    }\n",
       "</style>\n",
       "<table border=\"1\" class=\"dataframe\">\n",
       "  <thead>\n",
       "    <tr style=\"text-align: right;\">\n",
       "      <th></th>\n",
       "      <th>ID</th>\n",
       "      <th>TEXT</th>\n",
       "    </tr>\n",
       "  </thead>\n",
       "  <tbody>\n",
       "    <tr>\n",
       "      <th>0</th>\n",
       "      <td>0</td>\n",
       "      <td>Cyclin-dependent kinases (CDKs) regulate a var...</td>\n",
       "    </tr>\n",
       "    <tr>\n",
       "      <th>1</th>\n",
       "      <td>1</td>\n",
       "      <td>Abstract Background  Non-small cell lung canc...</td>\n",
       "    </tr>\n",
       "    <tr>\n",
       "      <th>2</th>\n",
       "      <td>2</td>\n",
       "      <td>Abstract Background  Non-small cell lung canc...</td>\n",
       "    </tr>\n",
       "    <tr>\n",
       "      <th>3</th>\n",
       "      <td>3</td>\n",
       "      <td>Recent evidence has demonstrated that acquired...</td>\n",
       "    </tr>\n",
       "    <tr>\n",
       "      <th>4</th>\n",
       "      <td>4</td>\n",
       "      <td>Oncogenic mutations in the monomeric Casitas B...</td>\n",
       "    </tr>\n",
       "  </tbody>\n",
       "</table>\n",
       "</div>"
      ],
      "text/plain": [
       "   ID                                               TEXT\n",
       "0   0  Cyclin-dependent kinases (CDKs) regulate a var...\n",
       "1   1   Abstract Background  Non-small cell lung canc...\n",
       "2   2   Abstract Background  Non-small cell lung canc...\n",
       "3   3  Recent evidence has demonstrated that acquired...\n",
       "4   4  Oncogenic mutations in the monomeric Casitas B..."
      ]
     },
     "execution_count": 3,
     "metadata": {},
     "output_type": "execute_result"
    }
   ],
   "source": [
    "# note the seprator in this file\n",
    "data_text = pd.read_csv(\"training_text\", sep=r\"\\|\\|\", engine=\"python\", names=[\"ID\",\"TEXT\"], skiprows=1)\n",
    "print('Number of data points : ', data_text.shape[0])\n",
    "print('Number of features : ', data_text.shape[1])\n",
    "print('Features : ', data_text.columns.values)\n",
    "data_text.head()"
   ]
  },
  {
   "cell_type": "code",
   "execution_count": 4,
   "id": "8f4c1a1c",
   "metadata": {},
   "outputs": [
    {
     "name": "stderr",
     "output_type": "stream",
     "text": [
      "<>:10: SyntaxWarning: invalid escape sequence '\\s'\n",
      "<>:10: SyntaxWarning: invalid escape sequence '\\s'\n",
      "C:\\Users\\Aditya\\AppData\\Local\\Temp\\ipykernel_20780\\8991544.py:10: SyntaxWarning: invalid escape sequence '\\s'\n",
      "  total_text = re.sub('\\s+',' ', total_text)\n"
     ]
    }
   ],
   "source": [
    "stop_words = set(stopwords.words('english'))\n",
    "\n",
    "\n",
    "def nlp_preprocessing(total_text, index, column):\n",
    "    if type(total_text) is not int:\n",
    "        string = \"\"\n",
    "        # replace every special char with space\n",
    "        total_text = re.sub('[^a-zA-Z0-9\\n]', ' ', total_text)\n",
    "        # replace multiple spaces with single space\n",
    "        total_text = re.sub('\\s+',' ', total_text)\n",
    "        # converting all the chars into lower-case.\n",
    "        total_text = total_text.lower()\n",
    "        \n",
    "        for word in total_text.split():\n",
    "        # if the word is a not a stop word then retain that word from the data\n",
    "            if not word in stop_words:\n",
    "                string += word + \" \"\n",
    "        \n",
    "        # Use .loc to avoid chained assignment warning\n",
    "        data_text.loc[index, column] = string"
   ]
  },
  {
   "cell_type": "code",
   "execution_count": 5,
   "id": "454fea86",
   "metadata": {},
   "outputs": [
    {
     "name": "stdout",
     "output_type": "stream",
     "text": [
      "there is no text description for id: 1109\n",
      "there is no text description for id: 1277\n",
      "there is no text description for id: 1277\n",
      "there is no text description for id: 1407\n",
      "there is no text description for id: 1407\n",
      "there is no text description for id: 1639\n",
      "there is no text description for id: 1639\n",
      "there is no text description for id: 2755\n",
      "there is no text description for id: 2755\n",
      "Time took for preprocessing the text : 39.62881639999978 seconds\n",
      "Time took for preprocessing the text : 39.62881639999978 seconds\n"
     ]
    }
   ],
   "source": [
    "# text processing stage\n",
    "start_time = time.perf_counter()\n",
    "for index, row in data_text.iterrows():\n",
    "    if isinstance(row['TEXT'], str):\n",
    "        nlp_preprocessing(row['TEXT'], index, 'TEXT')\n",
    "    else:\n",
    "        print(\"there is no text description for id:\", index)\n",
    "print('Time took for preprocessing the text :', time.perf_counter() - start_time, \"seconds\")"
   ]
  },
  {
   "cell_type": "code",
   "execution_count": 6,
   "id": "1a6f08c9",
   "metadata": {},
   "outputs": [
    {
     "data": {
      "text/html": [
       "<div>\n",
       "<style scoped>\n",
       "    .dataframe tbody tr th:only-of-type {\n",
       "        vertical-align: middle;\n",
       "    }\n",
       "\n",
       "    .dataframe tbody tr th {\n",
       "        vertical-align: top;\n",
       "    }\n",
       "\n",
       "    .dataframe thead th {\n",
       "        text-align: right;\n",
       "    }\n",
       "</style>\n",
       "<table border=\"1\" class=\"dataframe\">\n",
       "  <thead>\n",
       "    <tr style=\"text-align: right;\">\n",
       "      <th></th>\n",
       "      <th>ID</th>\n",
       "      <th>Gene</th>\n",
       "      <th>Variation</th>\n",
       "      <th>Class</th>\n",
       "      <th>TEXT</th>\n",
       "    </tr>\n",
       "  </thead>\n",
       "  <tbody>\n",
       "    <tr>\n",
       "      <th>0</th>\n",
       "      <td>0</td>\n",
       "      <td>FAM58A</td>\n",
       "      <td>Truncating Mutations</td>\n",
       "      <td>1</td>\n",
       "      <td>cyclin dependent kinases cdks regulate variety...</td>\n",
       "    </tr>\n",
       "    <tr>\n",
       "      <th>1</th>\n",
       "      <td>1</td>\n",
       "      <td>CBL</td>\n",
       "      <td>W802*</td>\n",
       "      <td>2</td>\n",
       "      <td>abstract background non small cell lung cancer...</td>\n",
       "    </tr>\n",
       "    <tr>\n",
       "      <th>2</th>\n",
       "      <td>2</td>\n",
       "      <td>CBL</td>\n",
       "      <td>Q249E</td>\n",
       "      <td>2</td>\n",
       "      <td>abstract background non small cell lung cancer...</td>\n",
       "    </tr>\n",
       "    <tr>\n",
       "      <th>3</th>\n",
       "      <td>3</td>\n",
       "      <td>CBL</td>\n",
       "      <td>N454D</td>\n",
       "      <td>3</td>\n",
       "      <td>recent evidence demonstrated acquired uniparen...</td>\n",
       "    </tr>\n",
       "    <tr>\n",
       "      <th>4</th>\n",
       "      <td>4</td>\n",
       "      <td>CBL</td>\n",
       "      <td>L399V</td>\n",
       "      <td>4</td>\n",
       "      <td>oncogenic mutations monomeric casitas b lineag...</td>\n",
       "    </tr>\n",
       "  </tbody>\n",
       "</table>\n",
       "</div>"
      ],
      "text/plain": [
       "   ID    Gene             Variation  Class  \\\n",
       "0   0  FAM58A  Truncating Mutations      1   \n",
       "1   1     CBL                 W802*      2   \n",
       "2   2     CBL                 Q249E      2   \n",
       "3   3     CBL                 N454D      3   \n",
       "4   4     CBL                 L399V      4   \n",
       "\n",
       "                                                TEXT  \n",
       "0  cyclin dependent kinases cdks regulate variety...  \n",
       "1  abstract background non small cell lung cancer...  \n",
       "2  abstract background non small cell lung cancer...  \n",
       "3  recent evidence demonstrated acquired uniparen...  \n",
       "4  oncogenic mutations monomeric casitas b lineag...  "
      ]
     },
     "execution_count": 6,
     "metadata": {},
     "output_type": "execute_result"
    }
   ],
   "source": [
    "#merging both gene_variations and text data based on ID\n",
    "result = pd.merge(data, data_text,on='ID', how='left')\n",
    "result.head()"
   ]
  },
  {
   "cell_type": "code",
   "execution_count": 7,
   "id": "86b6cb5e",
   "metadata": {},
   "outputs": [
    {
     "data": {
      "text/html": [
       "<div>\n",
       "<style scoped>\n",
       "    .dataframe tbody tr th:only-of-type {\n",
       "        vertical-align: middle;\n",
       "    }\n",
       "\n",
       "    .dataframe tbody tr th {\n",
       "        vertical-align: top;\n",
       "    }\n",
       "\n",
       "    .dataframe thead th {\n",
       "        text-align: right;\n",
       "    }\n",
       "</style>\n",
       "<table border=\"1\" class=\"dataframe\">\n",
       "  <thead>\n",
       "    <tr style=\"text-align: right;\">\n",
       "      <th></th>\n",
       "      <th>ID</th>\n",
       "      <th>Gene</th>\n",
       "      <th>Variation</th>\n",
       "      <th>Class</th>\n",
       "      <th>TEXT</th>\n",
       "    </tr>\n",
       "  </thead>\n",
       "  <tbody>\n",
       "    <tr>\n",
       "      <th>1109</th>\n",
       "      <td>1109</td>\n",
       "      <td>FANCA</td>\n",
       "      <td>S1088F</td>\n",
       "      <td>1</td>\n",
       "      <td>NaN</td>\n",
       "    </tr>\n",
       "    <tr>\n",
       "      <th>1277</th>\n",
       "      <td>1277</td>\n",
       "      <td>ARID5B</td>\n",
       "      <td>Truncating Mutations</td>\n",
       "      <td>1</td>\n",
       "      <td>NaN</td>\n",
       "    </tr>\n",
       "    <tr>\n",
       "      <th>1407</th>\n",
       "      <td>1407</td>\n",
       "      <td>FGFR3</td>\n",
       "      <td>K508M</td>\n",
       "      <td>6</td>\n",
       "      <td>NaN</td>\n",
       "    </tr>\n",
       "    <tr>\n",
       "      <th>1639</th>\n",
       "      <td>1639</td>\n",
       "      <td>FLT1</td>\n",
       "      <td>Amplification</td>\n",
       "      <td>6</td>\n",
       "      <td>NaN</td>\n",
       "    </tr>\n",
       "    <tr>\n",
       "      <th>2755</th>\n",
       "      <td>2755</td>\n",
       "      <td>BRAF</td>\n",
       "      <td>G596C</td>\n",
       "      <td>7</td>\n",
       "      <td>NaN</td>\n",
       "    </tr>\n",
       "  </tbody>\n",
       "</table>\n",
       "</div>"
      ],
      "text/plain": [
       "        ID    Gene             Variation  Class TEXT\n",
       "1109  1109   FANCA                S1088F      1  NaN\n",
       "1277  1277  ARID5B  Truncating Mutations      1  NaN\n",
       "1407  1407   FGFR3                 K508M      6  NaN\n",
       "1639  1639    FLT1         Amplification      6  NaN\n",
       "2755  2755    BRAF                 G596C      7  NaN"
      ]
     },
     "execution_count": 7,
     "metadata": {},
     "output_type": "execute_result"
    }
   ],
   "source": [
    "result[result.isnull().any(axis=1)]"
   ]
  },
  {
   "cell_type": "code",
   "execution_count": 8,
   "id": "ad21b0f8",
   "metadata": {},
   "outputs": [],
   "source": [
    "result.loc[result['TEXT'].isnull(),'TEXT'] = result['Gene'] +' '+result['Variation']"
   ]
  },
  {
   "cell_type": "code",
   "execution_count": 9,
   "id": "bf7a6f82",
   "metadata": {},
   "outputs": [
    {
     "data": {
      "text/html": [
       "<div>\n",
       "<style scoped>\n",
       "    .dataframe tbody tr th:only-of-type {\n",
       "        vertical-align: middle;\n",
       "    }\n",
       "\n",
       "    .dataframe tbody tr th {\n",
       "        vertical-align: top;\n",
       "    }\n",
       "\n",
       "    .dataframe thead th {\n",
       "        text-align: right;\n",
       "    }\n",
       "</style>\n",
       "<table border=\"1\" class=\"dataframe\">\n",
       "  <thead>\n",
       "    <tr style=\"text-align: right;\">\n",
       "      <th></th>\n",
       "      <th>ID</th>\n",
       "      <th>Gene</th>\n",
       "      <th>Variation</th>\n",
       "      <th>Class</th>\n",
       "      <th>TEXT</th>\n",
       "    </tr>\n",
       "  </thead>\n",
       "  <tbody>\n",
       "    <tr>\n",
       "      <th>2755</th>\n",
       "      <td>2755</td>\n",
       "      <td>BRAF</td>\n",
       "      <td>G596C</td>\n",
       "      <td>7</td>\n",
       "      <td>BRAF G596C</td>\n",
       "    </tr>\n",
       "  </tbody>\n",
       "</table>\n",
       "</div>"
      ],
      "text/plain": [
       "        ID  Gene Variation  Class        TEXT\n",
       "2755  2755  BRAF     G596C      7  BRAF G596C"
      ]
     },
     "execution_count": 9,
     "metadata": {},
     "output_type": "execute_result"
    }
   ],
   "source": [
    "result[result['ID']==2755]"
   ]
  },
  {
   "cell_type": "code",
   "execution_count": 10,
   "id": "ab5958e2",
   "metadata": {},
   "outputs": [
    {
     "name": "stderr",
     "output_type": "stream",
     "text": [
      "<>:2: SyntaxWarning: invalid escape sequence '\\s'\n",
      "<>:3: SyntaxWarning: invalid escape sequence '\\s'\n",
      "<>:2: SyntaxWarning: invalid escape sequence '\\s'\n",
      "<>:3: SyntaxWarning: invalid escape sequence '\\s'\n",
      "C:\\Users\\Aditya\\AppData\\Local\\Temp\\ipykernel_20780\\2448509936.py:2: SyntaxWarning: invalid escape sequence '\\s'\n",
      "  result.Gene      = result.Gene.str.replace('\\s+', '_')\n",
      "C:\\Users\\Aditya\\AppData\\Local\\Temp\\ipykernel_20780\\2448509936.py:3: SyntaxWarning: invalid escape sequence '\\s'\n",
      "  result.Variation = result.Variation.str.replace('\\s+', '_')\n"
     ]
    }
   ],
   "source": [
    "y_true = result['Class'].values\n",
    "result.Gene      = result.Gene.str.replace('\\s+', '_')\n",
    "result.Variation = result.Variation.str.replace('\\s+', '_')\n",
    "\n",
    "# split the data into test and train by maintaining same distribution of output varaible 'y_true' [stratify=y_true]\n",
    "X_train, test_df, y_train, y_test = train_test_split(result, y_true, stratify=y_true, test_size=0.2)\n",
    "# split the train data into train and cross validation by maintaining same distribution of output varaible 'y_train' [stratify=y_train]\n",
    "train_df, cv_df, y_train, y_cv = train_test_split(X_train, y_train, stratify=y_train, test_size=0.2)"
   ]
  },
  {
   "cell_type": "code",
   "execution_count": 11,
   "id": "e8556a9e",
   "metadata": {},
   "outputs": [
    {
     "name": "stdout",
     "output_type": "stream",
     "text": [
      "Number of data points in train data: 2124\n",
      "Number of data points in test data: 665\n",
      "Number of data points in cross validation data: 532\n"
     ]
    }
   ],
   "source": [
    "print('Number of data points in train data:', train_df.shape[0])\n",
    "print('Number of data points in test data:', test_df.shape[0])\n",
    "print('Number of data points in cross validation data:', cv_df.shape[0])"
   ]
  },
  {
   "cell_type": "code",
   "execution_count": 12,
   "id": "c082fe9a",
   "metadata": {},
   "outputs": [
    {
     "data": {
      "image/png": "[encoded data removed]",
      "text/plain": [
       "<Figure size 640x480 with 1 Axes>"
      ]
     },
     "metadata": {},
     "output_type": "display_data"
    },
    {
     "name": "stdout",
     "output_type": "stream",
     "text": [
      "Number of data points in class 7 : 609 ( 28.672 %)\n",
      "Number of data points in class 4 : 439 ( 20.669 %)\n",
      "Number of data points in class 1 : 363 ( 17.09 %)\n",
      "Number of data points in class 2 : 289 ( 13.606 %)\n",
      "Number of data points in class 6 : 176 ( 8.286 %)\n",
      "Number of data points in class 5 : 155 ( 7.298 %)\n",
      "Number of data points in class 3 : 57 ( 2.684 %)\n",
      "Number of data points in class 9 : 24 ( 1.13 %)\n",
      "Number of data points in class 8 : 12 ( 0.565 %)\n",
      "--------------------------------------------------------------------------------\n"
     ]
    },
    {
     "data": {
      "image/png": "[encoded data removed]",
      "text/plain": [
       "<Figure size 640x480 with 1 Axes>"
      ]
     },
     "metadata": {},
     "output_type": "display_data"
    },
    {
     "name": "stdout",
     "output_type": "stream",
     "text": [
      "Number of data points in class 7 : 191 ( 28.722 %)\n",
      "Number of data points in class 4 : 137 ( 20.602 %)\n",
      "Number of data points in class 1 : 114 ( 17.143 %)\n",
      "Number of data points in class 2 : 91 ( 13.684 %)\n",
      "Number of data points in class 6 : 55 ( 8.271 %)\n",
      "Number of data points in class 5 : 48 ( 7.218 %)\n",
      "Number of data points in class 3 : 18 ( 2.707 %)\n",
      "Number of data points in class 9 : 7 ( 1.053 %)\n",
      "Number of data points in class 8 : 4 ( 0.602 %)\n",
      "--------------------------------------------------------------------------------\n"
     ]
    },
    {
     "data": {
      "image/png": "[encoded data removed]",
      "text/plain": [
       "<Figure size 640x480 with 1 Axes>"
      ]
     },
     "metadata": {},
     "output_type": "display_data"
    },
    {
     "name": "stdout",
     "output_type": "stream",
     "text": [
      "Number of data points in class 7 : 153 ( 28.759 %)\n",
      "Number of data points in class 4 : 110 ( 20.677 %)\n",
      "Number of data points in class 1 : 91 ( 17.105 %)\n",
      "Number of data points in class 2 : 72 ( 13.534 %)\n",
      "Number of data points in class 6 : 44 ( 8.271 %)\n",
      "Number of data points in class 5 : 39 ( 7.331 %)\n",
      "Number of data points in class 3 : 14 ( 2.632 %)\n",
      "Number of data points in class 9 : 6 ( 1.128 %)\n",
      "Number of data points in class 8 : 3 ( 0.564 %)\n"
     ]
    }
   ],
   "source": [
    "# it returns a dict, keys as class labels and values as the number of data points in that class\n",
    "train_class_distribution = train_df['Class'].value_counts().sort_index()\n",
    "test_class_distribution = test_df['Class'].value_counts().sort_index()\n",
    "cv_class_distribution = cv_df['Class'].value_counts().sort_index()\n",
    "\n",
    "my_colors = 'rgbkymc'\n",
    "train_class_distribution.plot(kind='bar')\n",
    "plt.xlabel('Class')\n",
    "plt.ylabel('Data points per Class')\n",
    "plt.title('Distribution of yi in train data')\n",
    "plt.grid()\n",
    "plt.show()\n",
    "\n",
    "# ref: argsort https://docs.scipy.org/doc/numpy/reference/generated/numpy.argsort.html\n",
    "# -(train_class_distribution.values): the minus sign will give us in decreasing order\n",
    "sorted_yi = np.argsort(-train_class_distribution.values)\n",
    "for i in sorted_yi:\n",
    "    print('Number of data points in class', i+1, ':',train_class_distribution.values[i], '(', np.round((train_class_distribution.values[i]/train_df.shape[0]*100), 3), '%)')\n",
    "\n",
    "    \n",
    "print('-'*80)\n",
    "my_colors = 'rgbkymc'\n",
    "test_class_distribution.plot(kind='bar')\n",
    "plt.xlabel('Class')\n",
    "plt.ylabel('Data points per Class')\n",
    "plt.title('Distribution of yi in test data')\n",
    "plt.grid()\n",
    "plt.show()\n",
    "\n",
    "# ref: argsort https://docs.scipy.org/doc/numpy/reference/generated/numpy.argsort.html\n",
    "# -(train_class_distribution.values): the minus sign will give us in decreasing order\n",
    "sorted_yi = np.argsort(-test_class_distribution.values)\n",
    "for i in sorted_yi:\n",
    "    print('Number of data points in class', i+1, ':',test_class_distribution.values[i], '(', np.round((test_class_distribution.values[i]/test_df.shape[0]*100), 3), '%)')\n",
    "\n",
    "print('-'*80)\n",
    "my_colors = 'rgbkymc'\n",
    "cv_class_distribution.plot(kind='bar')\n",
    "plt.xlabel('Class')\n",
    "plt.ylabel('Data points per Class')\n",
    "plt.title('Distribution of yi in cross validation data')\n",
    "plt.grid()\n",
    "plt.show()\n",
    "\n",
    "# ref: argsort https://docs.scipy.org/doc/numpy/reference/generated/numpy.argsort.html\n",
    "# -(train_class_distribution.values): the minus sign will give us in decreasing order\n",
    "sorted_yi = np.argsort(-train_class_distribution.values)\n",
    "for i in sorted_yi:\n",
    "    print('Number of data points in class', i+1, ':',cv_class_distribution.values[i], '(', np.round((cv_class_distribution.values[i]/cv_df.shape[0]*100), 3), '%)')\n"
   ]
  },
  {
   "cell_type": "code",
   "execution_count": 13,
   "id": "b76db644",
   "metadata": {},
   "outputs": [],
   "source": [
    "# This function plots the confusion matrices given y_i, y_i_hat.\n",
    "def plot_confusion_matrix(test_y, predict_y):\n",
    "    C = confusion_matrix(test_y, predict_y)\n",
    "    # C = 9,9 matrix, each cell (i,j) represents number of points of class i are predicted class j\n",
    "    \n",
    "    A =(((C.T)/(C.sum(axis=1))).T)\n",
    "    #divid each element of the confusion matrix with the sum of elements in that column\n",
    "    \n",
    "    # C = [[1, 2],\n",
    "    #     [3, 4]]\n",
    "    # C.T = [[1, 3],\n",
    "    #        [2, 4]]\n",
    "    # C.sum(axis = 1)  axis=0 corresonds to columns and axis=1 corresponds to rows in two diamensional array\n",
    "    # C.sum(axix =1) = [[3, 7]]\n",
    "    # ((C.T)/(C.sum(axis=1))) = [[1/3, 3/7]\n",
    "    #                           [2/3, 4/7]]\n",
    "\n",
    "    # ((C.T)/(C.sum(axis=1))).T = [[1/3, 2/3]\n",
    "    #                           [3/7, 4/7]]\n",
    "    # sum of row elements = 1\n",
    "    \n",
    "    B =(C/C.sum(axis=0))\n",
    "    #divid each element of the confusion matrix with the sum of elements in that row\n",
    "    # C = [[1, 2],\n",
    "    #     [3, 4]]\n",
    "    # C.sum(axis = 0)  axis=0 corresonds to columns and axis=1 corresponds to rows in two diamensional array\n",
    "    # C.sum(axix =0) = [[4, 6]]\n",
    "    # (C/C.sum(axis=0)) = [[1/4, 2/6],\n",
    "    #                      [3/4, 4/6]] \n",
    "    \n",
    "    labels = [1,2,3,4,5,6,7,8,9]\n",
    "    # representing A in heatmap format\n",
    "    print(\"-\"*20, \"Confusion matrix\", \"-\"*20)\n",
    "    plt.figure(figsize=(20,7))\n",
    "    sns.heatmap(C, annot=True, cmap=\"YlGnBu\", fmt=\".3f\", xticklabels=labels, yticklabels=labels)\n",
    "    plt.xlabel('Predicted Class')\n",
    "    plt.ylabel('Original Class')\n",
    "    plt.show()\n",
    "\n",
    "    print(\"-\"*20, \"Precision matrix (Columm Sum=1)\", \"-\"*20)\n",
    "    plt.figure(figsize=(20,7))\n",
    "    sns.heatmap(B, annot=True, cmap=\"YlGnBu\", fmt=\".3f\", xticklabels=labels, yticklabels=labels)\n",
    "    plt.xlabel('Predicted Class')\n",
    "    plt.ylabel('Original Class')\n",
    "    plt.show()\n",
    "    \n",
    "    # representing B in heatmap format\n",
    "    print(\"-\"*20, \"Recall matrix (Row sum=1)\", \"-\"*20)\n",
    "    plt.figure(figsize=(20,7))\n",
    "    sns.heatmap(A, annot=True, cmap=\"YlGnBu\", fmt=\".3f\", xticklabels=labels, yticklabels=labels)\n",
    "    plt.xlabel('Predicted Class')\n",
    "    plt.ylabel('Original Class')\n",
    "    plt.show()"
   ]
  },
  {
   "cell_type": "code",
   "execution_count": 14,
   "id": "861c7fcb",
   "metadata": {},
   "outputs": [
    {
     "name": "stdout",
     "output_type": "stream",
     "text": [
      "Log loss on Cross Validation Data using Random Model 2.4693323469068558\n"
     ]
    }
   ],
   "source": [
    "# we need to generate 9 numbers and the sum of numbers should be 1\n",
    "# one solution is to genarate 9 numbers and divide each of the numbers by their sum\n",
    "# ref: https://stackoverflow.com/a/18662466/4084039\n",
    "test_data_len = test_df.shape[0]\n",
    "cv_data_len = cv_df.shape[0]\n",
    "\n",
    "# we create a output array that has exactly same size as the CV data\n",
    "cv_predicted_y = np.zeros((cv_data_len,9))\n",
    "for i in range(cv_data_len):\n",
    "    rand_probs = np.random.rand(1,9)\n",
    "    cv_predicted_y[i] = ((rand_probs/sum(sum(rand_probs)))[0])\n",
    "print(\"Log loss on Cross Validation Data using Random Model\",log_loss(y_cv,cv_predicted_y))\n",
    "\n"
   ]
  },
  {
   "cell_type": "code",
   "execution_count": 15,
   "id": "07ca361e",
   "metadata": {},
   "outputs": [
    {
     "name": "stdout",
     "output_type": "stream",
     "text": [
      "Number of Unique Genes : 224\n",
      "Gene\n",
      "BRCA1     167\n",
      "TP53       97\n",
      "EGFR       94\n",
      "PTEN       79\n",
      "BRCA2      79\n",
      "BRAF       67\n",
      "KIT        65\n",
      "ERBB2      48\n",
      "PDGFRA     42\n",
      "ALK        39\n",
      "Name: count, dtype: int64\n"
     ]
    }
   ],
   "source": [
    "#Univariate analysis of Gene columns\n",
    "#First we will try to know in depth about the gene feature and accordingly featurize it.\n",
    "unique_genes = train_df['Gene'].value_counts()\n",
    "print('Number of Unique Genes :', unique_genes.shape[0])\n",
    "# the top 10 genes that occured most\n",
    "print(unique_genes.head(10))"
   ]
  },
  {
   "cell_type": "code",
   "execution_count": 16,
   "id": "240ed97a",
   "metadata": {},
   "outputs": [
    {
     "name": "stdout",
     "output_type": "stream",
     "text": [
      "Ans: There are 224 different categories of genes in the train data, and they are distibuted as follows\n"
     ]
    }
   ],
   "source": [
    "print(\"Ans: There are\", unique_genes.shape[0] ,\"different categories of genes in the train data, and they are distibuted as follows\",)"
   ]
  },
  {
   "cell_type": "code",
   "execution_count": 17,
   "id": "9eda54de",
   "metadata": {},
   "outputs": [
    {
     "data": {
      "image/png": "[encoded data removed]",
      "text/plain": [
       "<Figure size 640x480 with 1 Axes>"
      ]
     },
     "metadata": {},
     "output_type": "display_data"
    }
   ],
   "source": [
    "s = sum(unique_genes.values);\n",
    "h = unique_genes.values/s;\n",
    "plt.plot(h, label=\"Histrogram of Genes\")\n",
    "plt.xlabel('Index of a Gene')\n",
    "plt.ylabel('Number of Occurances')\n",
    "plt.legend()\n",
    "plt.grid()\n",
    "plt.show()\n"
   ]
  },
  {
   "cell_type": "code",
   "execution_count": 18,
   "id": "37a9013f",
   "metadata": {},
   "outputs": [
    {
     "data": {
      "image/png": "[encoded data removed]",
      "text/plain": [
       "<Figure size 640x480 with 1 Axes>"
      ]
     },
     "metadata": {},
     "output_type": "display_data"
    }
   ],
   "source": [
    "c = np.cumsum(h)\n",
    "plt.plot(c,label='Cumulative distribution of Genes')\n",
    "plt.grid()\n",
    "plt.legend()\n",
    "plt.show()"
   ]
  },
  {
   "cell_type": "code",
   "execution_count": 19,
   "id": "b0065600",
   "metadata": {},
   "outputs": [],
   "source": [
    "# code for response coding with Laplace smoothing.\n",
    "# alpha : used for laplace smoothing\n",
    "# feature: ['gene', 'variation']\n",
    "# df: ['train_df', 'test_df', 'cv_df']\n",
    "# algorithm\n",
    "# ----------\n",
    "# Consider all unique values and the number of occurances of given feature in train data dataframe\n",
    "# build a vector (1*9) , the first element = (number of times it occured in class1 + 10*alpha / number of time it occurred in total data+90*alpha)\n",
    "# gv_dict is like a look up table, for every gene it store a (1*9) representation of it\n",
    "# for a value of feature in df:\n",
    "# if it is in train data:\n",
    "# we add the vector that was stored in 'gv_dict' look up table to 'gv_fea'\n",
    "# if it is not there is train:\n",
    "# we add [1/9, 1/9, 1/9, 1/9,1/9, 1/9, 1/9, 1/9, 1/9] to 'gv_fea'\n",
    "# return 'gv_fea'\n",
    "# ----------------------\n",
    "\n",
    "# get_gv_fea_dict: Get Gene varaition Feature Dict\n",
    "def get_gv_fea_dict(alpha, feature, df):\n",
    "    # value_count: it contains a dict like\n",
    "    # print(train_df['Gene'].value_counts())\n",
    "    # output:\n",
    "    #        {BRCA1      174\n",
    "    #         TP53       106\n",
    "    #         EGFR        86\n",
    "    #         BRCA2       75\n",
    "    #         PTEN        69\n",
    "    #         KIT         61\n",
    "    #         BRAF        60\n",
    "    #         ERBB2       47\n",
    "    #         PDGFRA      46\n",
    "    #         ...}\n",
    "    # print(train_df['Variation'].value_counts())\n",
    "    # output:\n",
    "    # {\n",
    "    # Truncating_Mutations                     63\n",
    "    # Deletion                                 43\n",
    "    # Amplification                            43\n",
    "    # Fusions                                  22\n",
    "    # Overexpression                            3\n",
    "    # E17K                                      3\n",
    "    # Q61L                                      3\n",
    "    # S222D                                     2\n",
    "    # P130S                                     2\n",
    "    # ...\n",
    "    # }\n",
    "    value_count = train_df[feature].value_counts()\n",
    "    \n",
    "    # gv_dict : Gene Variation Dict, which contains the probability array for each gene/variation\n",
    "    gv_dict = dict()\n",
    "    \n",
    "    # denominator will contain the number of time that particular feature occured in whole data\n",
    "    for i, denominator in value_count.items():\n",
    "        # vec will contain (p(yi==1/Gi) probability of gene/variation belongs to perticular class\n",
    "        # vec is 9 diamensional vector\n",
    "        vec = []\n",
    "        for k in range(1,10):\n",
    "            # print(train_df.loc[(train_df['Class']==1) & (train_df['Gene']=='BRCA1')])\n",
    "            #         ID   Gene             Variation  Class  \n",
    "            # 2470  2470  BRCA1                S1715C      1   \n",
    "            # 2486  2486  BRCA1                S1841R      1   \n",
    "            # 2614  2614  BRCA1                   M1R      1   \n",
    "            # 2432  2432  BRCA1                L1657P      1   \n",
    "            # 2567  2567  BRCA1                T1685A      1   \n",
    "            # 2583  2583  BRCA1                E1660G      1   \n",
    "            # 2634  2634  BRCA1                W1718L      1   \n",
    "            # cls_cnt.shape[0] will return the number of rows\n",
    "\n",
    "            cls_cnt = train_df.loc[(train_df['Class']==k) & (train_df[feature]==i)]\n",
    "            \n",
    "            # cls_cnt.shape[0](numerator) will contain the number of time that particular feature occured in whole data\n",
    "            vec.append((cls_cnt.shape[0] + alpha*10)/ (denominator + 90*alpha))\n",
    "\n",
    "        # we are adding the gene/variation to the dict as key and vec as value\n",
    "        gv_dict[i]=vec\n",
    "    return gv_dict\n",
    "\n",
    "# Get Gene variation feature\n",
    "def get_gv_feature(alpha, feature, df):\n",
    "    # print(gv_dict)\n",
    "    #     {'BRCA1': [0.20075757575757575, 0.03787878787878788, 0.068181818181818177, 0.13636363636363635, 0.25, 0.19318181818181818, 0.03787878787878788, 0.03787878787878788, 0.03787878787878788], \n",
    "    #      'TP53': [0.32142857142857145, 0.061224489795918366, 0.061224489795918366, 0.27040816326530615, 0.061224489795918366, 0.066326530612244902, 0.051020408163265307, 0.051020408163265307, 0.056122448979591837], \n",
    "    #      'EGFR': [0.056818181818181816, 0.21590909090909091, 0.0625, 0.068181818181818177, 0.068181818181818177, 0.0625, 0.34659090909090912, 0.0625, 0.056818181818181816], \n",
    "    #      'BRCA2': [0.13333333333333333, 0.060606060606060608, 0.060606060606060608, 0.078787878787878782, 0.1393939393939394, 0.34545454545454546, 0.060606060606060608, 0.060606060606060608, 0.060606060606060608], \n",
    "    #      'PTEN': [0.069182389937106917, 0.062893081761006289, 0.069182389937106917, 0.46540880503144655, 0.075471698113207544, 0.062893081761006289, 0.069182389937106917, 0.062893081761006289, 0.062893081761006289], \n",
    "    #      'KIT': [0.066225165562913912, 0.25165562913907286, 0.072847682119205295, 0.072847682119205295, 0.066225165562913912, 0.066225165562913912, 0.27152317880794702, 0.066225165562913912, 0.066225165562913912], \n",
    "    #      'BRAF': [0.066666666666666666, 0.17999999999999999, 0.073333333333333334, 0.073333333333333334, 0.093333333333333338, 0.080000000000000002, 0.29999999999999999, 0.066666666666666666, 0.066666666666666666],\n",
    "    #      ...\n",
    "    #     }\n",
    "    gv_dict = get_gv_fea_dict(alpha, feature, df)\n",
    "    # value_count is similar in get_gv_fea_dict\n",
    "    value_count = train_df[feature].value_counts()\n",
    "    \n",
    "    # gv_fea: Gene_variation feature, it will contain the feature for each feature value in the data\n",
    "    gv_fea = []\n",
    "    # for every feature values in the given data frame we will check if it is there in the train data then we will add the feature to gv_fea\n",
    "    # if not we will add [1/9,1/9,1/9,1/9,1/9,1/9,1/9,1/9,1/9] to gv_fea\n",
    "    for index, row in df.iterrows():\n",
    "        if row[feature] in dict(value_count).keys():\n",
    "            gv_fea.append(gv_dict[row[feature]])\n",
    "        else:\n",
    "            gv_fea.append([1/9,1/9,1/9,1/9,1/9,1/9,1/9,1/9,1/9])\n",
    "#             gv_fea.append([-1,-1,-1,-1,-1,-1,-1,-1,-1])\n",
    "    return gv_fea"
   ]
  },
  {
   "cell_type": "code",
   "execution_count": 20,
   "id": "a4a79cb9",
   "metadata": {},
   "outputs": [],
   "source": [
    "#response-coding of the Gene feature\n",
    "# alpha is used for laplace smoothing\n",
    "alpha = 1\n",
    "# train gene feature\n",
    "train_gene_feature_responseCoding = np.array(get_gv_feature(alpha, \"Gene\", train_df))\n",
    "# test gene feature\n",
    "test_gene_feature_responseCoding = np.array(get_gv_feature(alpha, \"Gene\", test_df))\n",
    "# cross validation gene feature\n",
    "cv_gene_feature_responseCoding = np.array(get_gv_feature(alpha, \"Gene\", cv_df))"
   ]
  },
  {
   "cell_type": "code",
   "execution_count": 21,
   "id": "2811ae08",
   "metadata": {},
   "outputs": [
    {
     "name": "stdout",
     "output_type": "stream",
     "text": [
      "train_gene_feature_responseCoding is converted feature using respone coding method. The shape of gene feature: (2124, 9)\n"
     ]
    }
   ],
   "source": [
    "print(\"train_gene_feature_responseCoding is converted feature using respone coding method. The shape of gene feature:\", train_gene_feature_responseCoding.shape)"
   ]
  },
  {
   "cell_type": "code",
   "execution_count": null,
   "id": "b98be557",
   "metadata": {},
   "outputs": [],
   "source": []
  },
  {
   "cell_type": "code",
   "execution_count": 22,
   "id": "2dfbf720",
   "metadata": {},
   "outputs": [
    {
     "name": "stdout",
     "output_type": "stream",
     "text": [
      "Train gene feature response coding (first 5 rows):\n",
      "[[0.06451613 0.23870968 0.07096774 0.07096774 0.06451613 0.07096774\n",
      "  0.29032258 0.06451613 0.06451613]\n",
      " [0.07751938 0.10852713 0.12403101 0.07751938 0.10852713 0.07751938\n",
      "  0.27131783 0.07751938 0.07751938]\n",
      " [0.07692308 0.0591716  0.07100592 0.4852071  0.07100592 0.0591716\n",
      "  0.0591716  0.0591716  0.0591716 ]\n",
      " [0.07692308 0.0591716  0.07100592 0.4852071  0.07100592 0.0591716\n",
      "  0.0591716  0.0591716  0.0591716 ]\n",
      " [0.07751938 0.10852713 0.12403101 0.07751938 0.10852713 0.07751938\n",
      "  0.27131783 0.07751938 0.07751938]]\n",
      "\n",
      "Test gene feature response coding (first 5 rows):\n",
      "[[0.09615385 0.09615385 0.09615385 0.13461538 0.14423077 0.09615385\n",
      "  0.10576923 0.10576923 0.125     ]\n",
      " [0.09009009 0.17117117 0.09009009 0.0990991  0.09009009 0.09009009\n",
      "  0.18918919 0.09009009 0.09009009]\n",
      " [0.13684211 0.10526316 0.10526316 0.11578947 0.11578947 0.10526316\n",
      "  0.10526316 0.10526316 0.10526316]\n",
      " [0.14583333 0.10416667 0.10416667 0.10416667 0.10416667 0.125\n",
      "  0.10416667 0.10416667 0.10416667]\n",
      " [0.11111111 0.11111111 0.11111111 0.11111111 0.11111111 0.11111111\n",
      "  0.11111111 0.11111111 0.11111111]]\n",
      "\n",
      "CV gene feature response coding (first 5 rows):\n",
      "[[0.07692308 0.0591716  0.07100592 0.4852071  0.07100592 0.0591716\n",
      "  0.0591716  0.0591716  0.0591716 ]\n",
      " [0.11111111 0.11111111 0.11111111 0.11111111 0.11111111 0.11111111\n",
      "  0.11111111 0.11111111 0.11111111]\n",
      " [0.08474576 0.11016949 0.13559322 0.08474576 0.09322034 0.08474576\n",
      "  0.23728814 0.08474576 0.08474576]\n",
      " [0.16731518 0.03891051 0.08171206 0.15953307 0.26459144 0.17120623\n",
      "  0.03891051 0.03891051 0.03891051]\n",
      " [0.34224599 0.05882353 0.05347594 0.26737968 0.05347594 0.05882353\n",
      "  0.05347594 0.05347594 0.05882353]]\n"
     ]
    }
   ],
   "source": [
    "# Display the first 5 rows of response-coded gene features for train, test, and cv sets\n",
    "print('Train gene feature response coding (first 5 rows):')\n",
    "print(train_gene_feature_responseCoding[:5])\n",
    "print('\\nTest gene feature response coding (first 5 rows):')\n",
    "print(test_gene_feature_responseCoding[:5])\n",
    "print('\\nCV gene feature response coding (first 5 rows):')\n",
    "print(cv_gene_feature_responseCoding[:5])"
   ]
  },
  {
   "cell_type": "code",
   "execution_count": 23,
   "id": "3f61b07f",
   "metadata": {},
   "outputs": [
    {
     "name": "stdout",
     "output_type": "stream",
     "text": [
      "No matching gene found for the given vector.\n"
     ]
    }
   ],
   "source": [
    "# I have mentioned the response code of train_gene_feature_responseCoding for better understanding\n",
    "import numpy as np\n",
    "# The vector to search for\n",
    "target_vector = np.array([0.088,0.112,0.128,0.08,0.08,0.08,0.272,0.08,0.08])\n",
    "# Find the row index where the vector matches (with a tolerance for floating point)\n",
    "matches = np.where(np.all(np.isclose(train_gene_feature_responseCoding, target_vector, atol=1e-6), axis=1))[0]\n",
    "if len(matches) > 0:\n",
    "    for idx in matches:\n",
    "        print(f\"Row {idx}: Gene = {train_df.iloc[idx]['Gene']}\")\n",
    "else:\n",
    "    print(\"No matching gene found for the given vector.\")"
   ]
  },
  {
   "cell_type": "code",
   "execution_count": 24,
   "id": "ffb54a07",
   "metadata": {},
   "outputs": [],
   "source": [
    "# one-hot encoding of Gene feature.\n",
    "gene_vectorizer = CountVectorizer()\n",
    "train_gene_feature_onehotCoding = gene_vectorizer.fit_transform(train_df['Gene'])\n",
    "test_gene_feature_onehotCoding = gene_vectorizer.transform(test_df['Gene'])\n",
    "cv_gene_feature_onehotCoding = gene_vectorizer.transform(cv_df['Gene'])"
   ]
  },
  {
   "cell_type": "code",
   "execution_count": 25,
   "id": "39e4eb42",
   "metadata": {},
   "outputs": [
    {
     "data": {
      "text/plain": [
       "3042     KIT\n",
       "1509     ALK\n",
       "2256    PTEN\n",
       "2260    PTEN\n",
       "1557     ALK\n",
       "Name: Gene, dtype: object"
      ]
     },
     "execution_count": 25,
     "metadata": {},
     "output_type": "execute_result"
    }
   ],
   "source": [
    "train_df['Gene'].head()"
   ]
  },
  {
   "cell_type": "code",
   "execution_count": 26,
   "id": "82da5b0e",
   "metadata": {},
   "outputs": [
    {
     "data": {
      "text/plain": [
       "array(['abl1', 'acvr1', 'ago2', 'akt1', 'akt2', 'akt3', 'alk', 'apc',\n",
       "       'ar', 'araf', 'arid1a', 'arid1b', 'asxl1', 'atm', 'atrx', 'axin1',\n",
       "       'axl', 'b2m', 'bap1', 'bcl10', 'bcl2', 'bcl2l11', 'bcor', 'braf',\n",
       "       'brca1', 'brca2', 'brd4', 'brip1', 'btk', 'card11', 'carm1',\n",
       "       'casp8', 'cbl', 'ccnd1', 'ccnd3', 'cdh1', 'cdk12', 'cdk4', 'cdk6',\n",
       "       'cdkn1a', 'cdkn1b', 'cdkn2a', 'cdkn2b', 'cdkn2c', 'cebpa', 'chek2',\n",
       "       'cic', 'crebbp', 'ctcf', 'ctnnb1', 'ddr2', 'dicer1', 'dnmt3a',\n",
       "       'dnmt3b', 'dusp4', 'egfr', 'elf3', 'ep300', 'epas1', 'epcam',\n",
       "       'erbb2', 'erbb3', 'erbb4', 'ercc2', 'ercc3', 'ercc4', 'erg',\n",
       "       'errfi1', 'esr1', 'etv1', 'etv6', 'ewsr1', 'ezh2', 'fanca',\n",
       "       'fancc', 'fat1', 'fbxw7', 'fgf19', 'fgf3', 'fgf4', 'fgfr1',\n",
       "       'fgfr2', 'fgfr3', 'fgfr4', 'flt3', 'foxa1', 'foxl2', 'foxp1',\n",
       "       'fubp1', 'gata3', 'gna11', 'gnas', 'hist1h1c', 'hla', 'hnf1a',\n",
       "       'hras', 'idh1', 'idh2', 'igf1r', 'il7r', 'inpp4b', 'jak1', 'jak2',\n",
       "       'jun', 'kdm5c', 'kdm6a', 'kdr', 'keap1', 'kit', 'klf4', 'kmt2a',\n",
       "       'kmt2b', 'kmt2c', 'knstrn', 'kras', 'lats2', 'map2k1', 'map2k2',\n",
       "       'map2k4', 'map3k1', 'mdm2', 'mdm4', 'med12', 'mef2b', 'men1',\n",
       "       'met', 'mga', 'mlh1', 'mpl', 'msh2', 'msh6', 'mtor', 'myc',\n",
       "       'myd88', 'myod1', 'nf1', 'nf2', 'nfe2l2', 'nfkbia', 'nkx2',\n",
       "       'notch1', 'notch2', 'npm1', 'nras', 'nsd1', 'ntrk1', 'ntrk2',\n",
       "       'ntrk3', 'nup93', 'pak1', 'pax8', 'pbrm1', 'pdgfra', 'pdgfrb',\n",
       "       'pik3ca', 'pik3cb', 'pik3r1', 'pik3r2', 'pik3r3', 'pim1', 'pms2',\n",
       "       'pole', 'ppm1d', 'ppp2r1a', 'ppp6c', 'prdm1', 'ptch1', 'pten',\n",
       "       'ptpn11', 'ptprd', 'ptprt', 'rac1', 'rad50', 'rad51b', 'rad51c',\n",
       "       'rad54l', 'raf1', 'rasa1', 'rb1', 'rbm10', 'ret', 'rheb', 'rhoa',\n",
       "       'rit1', 'rnf43', 'ros1', 'rras2', 'runx1', 'rxra', 'sdhb', 'setd2',\n",
       "       'sf3b1', 'shoc2', 'shq1', 'smad2', 'smad3', 'smad4', 'smarca4',\n",
       "       'smarcb1', 'smo', 'sos1', 'sox9', 'spop', 'src', 'srsf2', 'stat3',\n",
       "       'stk11', 'tcf3', 'tcf7l2', 'tert', 'tet1', 'tet2', 'tgfbr1',\n",
       "       'tgfbr2', 'tmprss2', 'tp53', 'tp53bp1', 'tsc1', 'tsc2', 'u2af1',\n",
       "       'vhl', 'xpo1', 'xrcc2', 'yap1'], dtype=object)"
      ]
     },
     "execution_count": 26,
     "metadata": {},
     "output_type": "execute_result"
    }
   ],
   "source": [
    "gene_vectorizer.get_feature_names_out()"
   ]
  },
  {
   "cell_type": "code",
   "execution_count": 27,
   "id": "5e04e609",
   "metadata": {},
   "outputs": [
    {
     "name": "stdout",
     "output_type": "stream",
     "text": [
      "train_gene_feature_onehotCoding is converted feature using one-hot encoding method. The shape of gene feature: (2124, 224)\n"
     ]
    }
   ],
   "source": [
    "print(\"train_gene_feature_onehotCoding is converted feature using one-hot encoding method. The shape of gene feature:\", train_gene_feature_onehotCoding.shape)"
   ]
  },
  {
   "cell_type": "code",
   "execution_count": 28,
   "id": "bcdf3c29",
   "metadata": {},
   "outputs": [
    {
     "name": "stdout",
     "output_type": "stream",
     "text": [
      "Saved train one-hot encoded gene feature to 'train_gene_feature_onehotCoding.csv'\n"
     ]
    }
   ],
   "source": [
    "# Save train one-hot encoded gene feature to CSV\n",
    "import pandas as pd\n",
    "\n",
    "# Convert sparse matrix to dense array\n",
    "train_gene_onehot_df = pd.DataFrame(\n",
    "    train_gene_feature_onehotCoding.toarray(),\n",
    "    columns=gene_vectorizer.get_feature_names_out()\n",
    ")\n",
    "\n",
    "# Save to CSV\n",
    "train_gene_onehot_df.to_csv('train_gene_feature_onehotCoding.csv', index=False)\n",
    "print(\"Saved train one-hot encoded gene feature to 'train_gene_feature_onehotCoding.csv'\")"
   ]
  },
  {
   "cell_type": "code",
   "execution_count": 29,
   "id": "36460fa8",
   "metadata": {},
   "outputs": [
    {
     "name": "stdout",
     "output_type": "stream",
     "text": [
      "For values of alpha =  1e-05 The log loss is: 1.2007549218657356\n",
      "For values of alpha =  0.0001 The log loss is: 1.1837821073501529\n",
      "For values of alpha =  0.0001 The log loss is: 1.1837821073501529\n",
      "For values of alpha =  0.001 The log loss is: 1.2175219616920656\n",
      "For values of alpha =  0.001 The log loss is: 1.2175219616920656\n",
      "For values of alpha =  0.01 The log loss is: 1.319906278086191\n",
      "For values of alpha =  0.01 The log loss is: 1.319906278086191\n",
      "For values of alpha =  0.1 The log loss is: 1.4251239811687066\n",
      "For values of alpha =  0.1 The log loss is: 1.4251239811687066\n",
      "For values of alpha =  1 The log loss is: 1.4639852743967674\n",
      "For values of alpha =  1 The log loss is: 1.4639852743967674\n"
     ]
    },
    {
     "data": {
      "image/png": "[encoded data removed]",
      "text/plain": [
       "<Figure size 640x480 with 1 Axes>"
      ]
     },
     "metadata": {},
     "output_type": "display_data"
    },
    {
     "name": "stdout",
     "output_type": "stream",
     "text": [
      "For values of best alpha =  0.0001 The train log loss is: 0.9837587862978346\n",
      "For values of best alpha =  0.0001 The cross validation log loss is: 1.1837821073501529\n",
      "For values of best alpha =  0.0001 The test log loss is: 1.227867614828201\n"
     ]
    }
   ],
   "source": [
    "alpha = [10 ** x for x in range(-5, 1)] # hyperparam for SGD classifier.\n",
    "\n",
    "# read more about SGDClassifier() at http://scikit-learn.org/stable/modules/generated/sklearn.linear_model.SGDClassifier.html\n",
    "# ------------------------------\n",
    "# default parameters\n",
    "# SGDClassifier(loss=’hinge’, penalty=’l2’, alpha=0.0001, l1_ratio=0.15, fit_intercept=True, max_iter=None, tol=None, \n",
    "# shuffle=True, verbose=0, epsilon=0.1, n_jobs=1, random_state=None, learning_rate=’optimal’, eta0=0.0, power_t=0.5, \n",
    "# class_weight=None, warm_start=False, average=False, n_iter=None)\n",
    "\n",
    "# some of methods\n",
    "# fit(X, y[, coef_init, intercept_init, …])\tFit linear model with Stochastic Gradient Descent.\n",
    "# predict(X)\tPredict class labels for samples in X.\n",
    "\n",
    "#-------------------------------\n",
    "# video link: \n",
    "#------------------------------\n",
    "\n",
    "\n",
    "cv_log_error_array=[]\n",
    "for i in alpha:\n",
    "    clf = SGDClassifier(alpha=i, penalty='l2', loss='log_loss', random_state=42)\n",
    "    clf.fit(train_gene_feature_onehotCoding, y_train)\n",
    "    sig_clf = CalibratedClassifierCV(clf, method=\"sigmoid\")\n",
    "    sig_clf.fit(train_gene_feature_onehotCoding, y_train)\n",
    "    predict_y = sig_clf.predict_proba(cv_gene_feature_onehotCoding)\n",
    "    cv_log_error_array.append(log_loss(y_cv, predict_y, labels=clf.classes_))\n",
    "    print('For values of alpha = ', i, \"The log loss is:\",log_loss(y_cv, predict_y, labels=clf.classes_))\n",
    "\n",
    "fig, ax = plt.subplots()\n",
    "ax.plot(alpha, cv_log_error_array,c='g')\n",
    "for i, txt in enumerate(np.round(cv_log_error_array,3)):\n",
    "    ax.annotate((alpha[i],np.round(txt,3)), (alpha[i],cv_log_error_array[i]))\n",
    "plt.grid()\n",
    "plt.title(\"Cross Validation Error for each alpha\")\n",
    "plt.xlabel(\"Alpha i's\")\n",
    "plt.ylabel(\"Error measure\")\n",
    "plt.show()\n",
    "\n",
    "\n",
    "best_alpha = np.argmin(cv_log_error_array)\n",
    "clf = SGDClassifier(alpha=alpha[best_alpha], penalty='l2', loss='log_loss', random_state=42)\n",
    "clf.fit(train_gene_feature_onehotCoding, y_train)\n",
    "sig_clf = CalibratedClassifierCV(clf, method=\"sigmoid\")\n",
    "sig_clf.fit(train_gene_feature_onehotCoding, y_train)\n",
    "\n",
    "predict_y = sig_clf.predict_proba(train_gene_feature_onehotCoding)\n",
    "print('For values of best alpha = ', alpha[best_alpha], \"The train log loss is:\",log_loss(y_train, predict_y, labels=clf.classes_))\n",
    "predict_y = sig_clf.predict_proba(cv_gene_feature_onehotCoding)\n",
    "print('For values of best alpha = ', alpha[best_alpha], \"The cross validation log loss is:\",log_loss(y_cv, predict_y, labels=clf.classes_))\n",
    "predict_y = sig_clf.predict_proba(test_gene_feature_onehotCoding)\n",
    "print('For values of best alpha = ', alpha[best_alpha], \"The test log loss is:\",log_loss(y_test, predict_y, labels=clf.classes_))\n"
   ]
  },
  {
   "cell_type": "code",
   "execution_count": 30,
   "id": "f8fe7948",
   "metadata": {},
   "outputs": [
    {
     "name": "stdout",
     "output_type": "stream",
     "text": [
      "Q6. How many data points in Test and CV datasets are covered by the  224  genes in train dataset?\n",
      "Ans\n",
      "1. In test data 638 out of 665 : 95.93984962406014\n",
      "2. In cross validation data 506 out of  532 : 95.11278195488721\n"
     ]
    }
   ],
   "source": [
    "print(\"Q6. How many data points in Test and CV datasets are covered by the \", unique_genes.shape[0], \" genes in train dataset?\")\n",
    "\n",
    "test_coverage=test_df[test_df['Gene'].isin(list(set(train_df['Gene'])))].shape[0]\n",
    "cv_coverage=cv_df[cv_df['Gene'].isin(list(set(train_df['Gene'])))].shape[0]\n",
    "\n",
    "print('Ans\\n1. In test data',test_coverage, 'out of',test_df.shape[0], \":\",(test_coverage/test_df.shape[0])*100)\n",
    "print('2. In cross validation data',cv_coverage, 'out of ',cv_df.shape[0],\":\" ,(cv_coverage/cv_df.shape[0])*100)"
   ]
  },
  {
   "cell_type": "code",
   "execution_count": 31,
   "id": "ffaadc2c",
   "metadata": {},
   "outputs": [
    {
     "name": "stdout",
     "output_type": "stream",
     "text": [
      "Number of Unique Variations : 1942\n",
      "Variation\n",
      "Truncating Mutations    55\n",
      "Deletion                48\n",
      "Amplification           43\n",
      "Fusions                 17\n",
      "G12V                     4\n",
      "Q61H                     3\n",
      "Q61L                     3\n",
      "V321M                    2\n",
      "P130S                    2\n",
      "G67R                     2\n",
      "Name: count, dtype: int64\n"
     ]
    }
   ],
   "source": [
    "# Univariate analysis of Variation columns\n",
    "# Now we will check the importance and stability of Variation feature\n",
    "unique_variations = train_df['Variation'].value_counts()\n",
    "print('Number of Unique Variations :', unique_variations.shape[0])\n",
    "# the top 10 variations that occured most\n",
    "print(unique_variations.head(10))"
   ]
  },
  {
   "cell_type": "code",
   "execution_count": 32,
   "id": "7c043788",
   "metadata": {},
   "outputs": [
    {
     "name": "stdout",
     "output_type": "stream",
     "text": [
      "Ans: There are 1942 different categories of variations in the train data, and they are distibuted as follows\n"
     ]
    }
   ],
   "source": [
    "print(\"Ans: There are\", unique_variations.shape[0] ,\"different categories of variations in the train data, and they are distibuted as follows\",)"
   ]
  },
  {
   "cell_type": "code",
   "execution_count": 33,
   "id": "9118a087",
   "metadata": {},
   "outputs": [
    {
     "data": {
      "image/png": "[encoded data removed]",
      "text/plain": [
       "<Figure size 640x480 with 1 Axes>"
      ]
     },
     "metadata": {},
     "output_type": "display_data"
    }
   ],
   "source": [
    "s = sum(unique_variations.values);\n",
    "h = unique_variations.values/s;\n",
    "plt.plot(h, label=\"Histrogram of Variations\")\n",
    "plt.xlabel('Index of a Variation')\n",
    "plt.ylabel('Number of Occurances')\n",
    "plt.legend()\n",
    "plt.grid()\n",
    "plt.show()"
   ]
  },
  {
   "cell_type": "code",
   "execution_count": 34,
   "id": "95802401",
   "metadata": {},
   "outputs": [
    {
     "name": "stdout",
     "output_type": "stream",
     "text": [
      "[0.02589454 0.04849341 0.06873823 ... 0.99905838 0.99952919 1.        ]\n"
     ]
    },
    {
     "data": {
      "image/png": "[encoded data removed]",
      "text/plain": [
       "<Figure size 640x480 with 1 Axes>"
      ]
     },
     "metadata": {},
     "output_type": "display_data"
    }
   ],
   "source": [
    "c = np.cumsum(h)\n",
    "print(c)\n",
    "plt.plot(c,label='Cumulative distribution of Variations')\n",
    "plt.grid()\n",
    "plt.legend()\n",
    "plt.show()"
   ]
  },
  {
   "cell_type": "code",
   "execution_count": 35,
   "id": "b3549322",
   "metadata": {},
   "outputs": [],
   "source": [
    "# code for response coding with Laplace smoothing.\n",
    "# alpha : used for laplace smoothing\n",
    "# feature: ['gene', 'variation']\n",
    "# df: ['train_df', 'test_df', 'cv_df']\n",
    "# algorithm\n",
    "# ----------\n",
    "# Consider all unique values and the number of occurances of given feature in train data dataframe\n",
    "# build a vector (1*9) , the first element = (number of times it occured in class1 + 10*alpha / number of time it occurred in total data+90*alpha)\n",
    "# gv_dict is like a look up table, for every gene it store a (1*9) representation of it\n",
    "# for a value of feature in df:\n",
    "# if it is in train data:\n",
    "# we add the vector that was stored in 'gv_dict' look up table to 'gv_fea'\n",
    "# if it is not there is train:\n",
    "# we add [1/9, 1/9, 1/9, 1/9,1/9, 1/9, 1/9, 1/9, 1/9] to 'gv_fea'\n",
    "# return 'gv_fea'\n",
    "# ----------------------\n",
    "\n",
    "# get_gv_fea_dict: Get Gene varaition Feature Dict\n",
    "def get_gv_fea_dict(alpha, feature, df):\n",
    "    # value_count: it contains a dict like\n",
    "    # print(train_df['Gene'].value_counts())\n",
    "    # output:\n",
    "    #        {BRCA1      174\n",
    "    #         TP53       106\n",
    "    #         EGFR        86\n",
    "    #         BRCA2       75\n",
    "    #         PTEN        69\n",
    "    #         KIT         61\n",
    "    #         BRAF        60\n",
    "    #         ERBB2       47\n",
    "    #         PDGFRA      46\n",
    "    #         ...}\n",
    "    # print(train_df['Variation'].value_counts())\n",
    "    # output:\n",
    "    # {\n",
    "    # Truncating_Mutations                     63\n",
    "    # Deletion                                 43\n",
    "    # Amplification                            43\n",
    "    # Fusions                                  22\n",
    "    # Overexpression                            3\n",
    "    # E17K                                      3\n",
    "    # Q61L                                      3\n",
    "    # S222D                                     2\n",
    "    # P130S                                     2\n",
    "    # ...\n",
    "    # }\n",
    "    value_count = train_df[feature].value_counts()\n",
    "    \n",
    "    # gv_dict : Gene Variation Dict, which contains the probability array for each gene/variation\n",
    "    gv_dict = dict()\n",
    "    \n",
    "    # denominator will contain the number of time that particular feature occured in whole data\n",
    "    for i, denominator in value_count.items():\n",
    "        # vec will contain (p(yi==1/Gi) probability of gene/variation belongs to perticular class\n",
    "        # vec is 9 diamensional vector\n",
    "        vec = []\n",
    "        for k in range(1,10):\n",
    "            # print(train_df.loc[(train_df['Class']==1) & (train_df['Gene']=='BRCA1')])\n",
    "            #         ID   Gene             Variation  Class  \n",
    "            # 2470  2470  BRCA1                S1715C      1   \n",
    "            # 2486  2486  BRCA1                S1841R      1   \n",
    "            # 2614  2614  BRCA1                   M1R      1   \n",
    "            # 2432  2432  BRCA1                L1657P      1   \n",
    "            # 2567  2567  BRCA1                T1685A      1   \n",
    "            # 2583  2583  BRCA1                E1660G      1   \n",
    "            # 2634  2634  BRCA1                W1718L      1   \n",
    "            # cls_cnt.shape[0] will return the number of rows\n",
    "\n",
    "            cls_cnt = train_df.loc[(train_df['Class']==k) & (train_df[feature]==i)]\n",
    "            \n",
    "            # cls_cnt.shape[0](numerator) will contain the number of time that particular feature occured in whole data\n",
    "            vec.append((cls_cnt.shape[0] + alpha*10)/ (denominator + 90*alpha))\n",
    "\n",
    "        # we are adding the gene/variation to the dict as key and vec as value\n",
    "        gv_dict[i]=vec\n",
    "    return gv_dict\n",
    "\n",
    "# Get Gene variation feature\n",
    "def get_gv_feature(alpha, feature, df):\n",
    "    # print(gv_dict)\n",
    "    #     {'BRCA1': [0.20075757575757575, 0.03787878787878788, 0.068181818181818177, 0.13636363636363635, 0.25, 0.19318181818181818, 0.03787878787878788, 0.03787878787878788, 0.03787878787878788], \n",
    "    #      'TP53': [0.32142857142857145, 0.061224489795918366, 0.061224489795918366, 0.27040816326530615, 0.061224489795918366, 0.066326530612244902, 0.051020408163265307, 0.051020408163265307, 0.056122448979591837], \n",
    "    #      'EGFR': [0.056818181818181816, 0.21590909090909091, 0.0625, 0.068181818181818177, 0.068181818181818177, 0.0625, 0.34659090909090912, 0.0625, 0.056818181818181816], \n",
    "    #      'BRCA2': [0.13333333333333333, 0.060606060606060608, 0.060606060606060608, 0.078787878787878782, 0.1393939393939394, 0.34545454545454546, 0.060606060606060608, 0.060606060606060608, 0.060606060606060608], \n",
    "    #      'PTEN': [0.069182389937106917, 0.062893081761006289, 0.069182389937106917, 0.46540880503144655, 0.075471698113207544, 0.062893081761006289, 0.069182389937106917, 0.062893081761006289, 0.062893081761006289], \n",
    "    #      'KIT': [0.066225165562913912, 0.25165562913907286, 0.072847682119205295, 0.072847682119205295, 0.066225165562913912, 0.066225165562913912, 0.27152317880794702, 0.066225165562913912, 0.066225165562913912], \n",
    "    #      'BRAF': [0.066666666666666666, 0.17999999999999999, 0.073333333333333334, 0.073333333333333334, 0.093333333333333338, 0.080000000000000002, 0.29999999999999999, 0.066666666666666666, 0.066666666666666666],\n",
    "    #      ...\n",
    "    #     }\n",
    "    gv_dict = get_gv_fea_dict(alpha, feature, df)\n",
    "    # value_count is similar in get_gv_fea_dict\n",
    "    value_count = train_df[feature].value_counts()\n",
    "    \n",
    "    # gv_fea: Gene_variation feature, it will contain the feature for each feature value in the data\n",
    "    gv_fea = []\n",
    "    # for every feature values in the given data frame we will check if it is there in the train data then we will add the feature to gv_fea\n",
    "    # if not we will add [1/9,1/9,1/9,1/9,1/9,1/9,1/9,1/9,1/9] to gv_fea\n",
    "    for index, row in df.iterrows():\n",
    "        if row[feature] in dict(value_count).keys():\n",
    "            gv_fea.append(gv_dict[row[feature]])\n",
    "        else:\n",
    "            gv_fea.append([1/9,1/9,1/9,1/9,1/9,1/9,1/9,1/9,1/9])\n",
    "#             gv_fea.append([-1,-1,-1,-1,-1,-1,-1,-1,-1])\n",
    "    return gv_fea"
   ]
  },
  {
   "cell_type": "code",
   "execution_count": 36,
   "id": "69d8d575",
   "metadata": {},
   "outputs": [],
   "source": [
    "# alpha is used for laplace smoothing\n",
    "alpha = 1\n",
    "# train variation feature\n",
    "train_variation_feature_responseCoding = np.array(get_gv_feature(alpha, \"Variation\", train_df))\n",
    "# test variation feature\n",
    "test_variation_feature_responseCoding = np.array(get_gv_feature(alpha, \"Variation\", test_df))\n",
    "# cross validation variation feature\n",
    "cv_variation_feature_responseCoding = np.array(get_gv_feature(alpha, \"Variation\", cv_df))"
   ]
  },
  {
   "cell_type": "code",
   "execution_count": 37,
   "id": "21eccd64",
   "metadata": {},
   "outputs": [
    {
     "name": "stdout",
     "output_type": "stream",
     "text": [
      "train_variation_feature_responseCoding is a converted feature using the response coding method. The shape of Variation feature: (2124, 9)\n"
     ]
    }
   ],
   "source": [
    "print(\"train_variation_feature_responseCoding is a converted feature using the response coding method. The shape of Variation feature:\", train_variation_feature_responseCoding.shape)"
   ]
  },
  {
   "cell_type": "code",
   "execution_count": 38,
   "id": "5d6e4708",
   "metadata": {},
   "outputs": [],
   "source": [
    "# one-hot encoding of variation feature.\n",
    "variation_vectorizer = CountVectorizer()\n",
    "train_variation_feature_onehotCoding = variation_vectorizer.fit_transform(train_df['Variation'])\n",
    "test_variation_feature_onehotCoding = variation_vectorizer.transform(test_df['Variation'])\n",
    "cv_variation_feature_onehotCoding = variation_vectorizer.transform(cv_df['Variation'])"
   ]
  },
  {
   "cell_type": "code",
   "execution_count": 39,
   "id": "37ebcb8e",
   "metadata": {},
   "outputs": [
    {
     "name": "stdout",
     "output_type": "stream",
     "text": [
      "train_variation_feature_onehotEncoded is converted feature using the onne-hot encoding method. The shape of Variation feature: (2124, 9)\n"
     ]
    }
   ],
   "source": [
    "print(\"train_variation_feature_onehotEncoded is converted feature using the onne-hot encoding method. The shape of Variation feature:\", train_variation_feature_responseCoding.shape)"
   ]
  },
  {
   "cell_type": "code",
   "execution_count": 40,
   "id": "5fa79fe8",
   "metadata": {},
   "outputs": [
    {
     "name": "stdout",
     "output_type": "stream",
     "text": [
      "For values of alpha =  1e-05 The log loss is: 2.032739099631124\n",
      "For values of alpha =  0.0001 The log loss is: 1.935324502124619\n",
      "For values of alpha =  0.001 The log loss is: 1.9711830424296544\n",
      "For values of alpha =  0.01 The log loss is: 1.9711847908793325\n",
      "For values of alpha =  0.1 The log loss is: 1.9687694058891139\n",
      "For values of alpha =  1 The log loss is: 1.9496882946655265\n"
     ]
    },
    {
     "data": {
      "image/png": "[encoded data removed]",
      "text/plain": [
       "<Figure size 640x480 with 1 Axes>"
      ]
     },
     "metadata": {},
     "output_type": "display_data"
    },
    {
     "name": "stdout",
     "output_type": "stream",
     "text": [
      "For values of best alpha =  0.0001 The train log loss is: 0.5259171749372896\n",
      "For values of best alpha =  0.0001 The cross validation log loss is: 1.935324502124619\n",
      "For values of best alpha =  0.0001 The test log loss is: 1.8636273749838639\n"
     ]
    }
   ],
   "source": [
    "# trained and tested using response coding\n",
    "alpha = [10 ** x for x in range(-5, 1)]\n",
    "\n",
    "# read more about SGDClassifier() at http://scikit-learn.org/stable/modules/generated/sklearn.linear_model.SGDClassifier.html\n",
    "# ------------------------------\n",
    "# default parameters\n",
    "# SGDClassifier(loss='hinge', penalty='l2', alpha=0.0001, l1_ratio=0.15, fit_intercept=True, max_iter=None, tol=None, \n",
    "# shuffle=True, verbose=0, epsilon=0.1, n_jobs=1, random_state=None, learning_rate='optimal', eta0=0.0, power_t=0.5, \n",
    "# class_weight=None, warm_start=False, average=False, n_iter=None)\n",
    "\n",
    "# some of methods\n",
    "# fit(X, y[, coef_init, intercept_init, …])\tFit linear model with Stochastic Gradient Descent.\n",
    "# predict(X)\tPredict class labels for samples in X.\n",
    "\n",
    "#-------------------------------\n",
    "# video link: \n",
    "#------------------------------\n",
    "\n",
    "cv_log_error_array=[]\n",
    "for i in alpha:\n",
    "    clf = SGDClassifier(alpha=i, penalty='l2', loss='log_loss', random_state=42)\n",
    "    clf.fit(train_variation_feature_responseCoding, y_train)\n",
    "    \n",
    "    sig_clf = CalibratedClassifierCV(clf, method=\"sigmoid\")\n",
    "    sig_clf.fit(train_variation_feature_responseCoding, y_train)\n",
    "    predict_y = sig_clf.predict_proba(cv_variation_feature_responseCoding)\n",
    "    \n",
    "    cv_log_error_array.append(log_loss(y_cv, predict_y, labels=clf.classes_))\n",
    "    print('For values of alpha = ', i, \"The log loss is:\",log_loss(y_cv, predict_y, labels=clf.classes_))\n",
    "\n",
    "fig, ax = plt.subplots()\n",
    "ax.plot(alpha, cv_log_error_array,c='g')\n",
    "for i, txt in enumerate(np.round(cv_log_error_array,3)):\n",
    "    ax.annotate((alpha[i],np.round(txt,3)), (alpha[i],cv_log_error_array[i]))\n",
    "plt.grid()\n",
    "plt.title(\"Cross Validation Error for each alpha\")\n",
    "plt.xlabel(\"Alpha i's\")\n",
    "plt.ylabel(\"Error measure\")\n",
    "plt.show()\n",
    "\n",
    "best_alpha = np.argmin(cv_log_error_array)\n",
    "clf = SGDClassifier(alpha=alpha[best_alpha], penalty='l2', loss='log_loss', random_state=42)\n",
    "clf.fit(train_variation_feature_responseCoding, y_train)\n",
    "sig_clf = CalibratedClassifierCV(clf, method=\"sigmoid\")\n",
    "sig_clf.fit(train_variation_feature_responseCoding, y_train)\n",
    "\n",
    "predict_y = sig_clf.predict_proba(train_variation_feature_responseCoding)\n",
    "print('For values of best alpha = ', alpha[best_alpha], \"The train log loss is:\",log_loss(y_train, predict_y, labels=clf.classes_))\n",
    "predict_y = sig_clf.predict_proba(cv_variation_feature_responseCoding)\n",
    "print('For values of best alpha = ', alpha[best_alpha], \"The cross validation log loss is:\",log_loss(y_cv, predict_y, labels=clf.classes_))\n",
    "predict_y = sig_clf.predict_proba(test_variation_feature_responseCoding)\n",
    "print('For values of best alpha = ', alpha[best_alpha], \"The test log loss is:\",log_loss(y_test, predict_y, labels=clf.classes_))"
   ]
  },
  {
   "cell_type": "code",
   "execution_count": 41,
   "id": "a3414f29",
   "metadata": {},
   "outputs": [
    {
     "name": "stdout",
     "output_type": "stream",
     "text": [
      "Q12. How many data points are covered by total  1942  variation in test and cross validation data sets?\n",
      "Ans\n",
      "1. In test data 77 out of 665 : 11.578947368421053\n",
      "2. In cross validation data 62 out of  532 : 11.654135338345863\n"
     ]
    }
   ],
   "source": [
    "print(\"Q12. How many data points are covered by total \", unique_variations.shape[0], \" variation in test and cross validation data sets?\")\n",
    "test_coverage=test_df[test_df['Variation'].isin(list(set(train_df['Variation'])))].shape[0]\n",
    "cv_coverage=cv_df[cv_df['Variation'].isin(list(set(train_df['Variation'])))].shape[0]\n",
    "print('Ans\\n1. In test data',test_coverage, 'out of',test_df.shape[0], \":\",(test_coverage/test_df.shape[0])*100)\n",
    "print('2. In cross validation data',cv_coverage, 'out of ',cv_df.shape[0],\":\" ,(cv_coverage/cv_df.shape[0])*100)"
   ]
  },
  {
   "cell_type": "code",
   "execution_count": 42,
   "id": "24fb2d4f",
   "metadata": {},
   "outputs": [],
   "source": [
    "# Now lets begin with text feature\n",
    "\n",
    "# cls_text is a data frame\n",
    "# for every row in data fram consider the 'TEXT'\n",
    "# split the words by space\n",
    "# make a dict with those words\n",
    "# increment its count whenever we see that word\n",
    "\n",
    "def extract_dictionary_paddle(cls_text):\n",
    "    dictionary = defaultdict(int)\n",
    "    for index, row in cls_text.iterrows():\n",
    "        for word in row['TEXT'].split():\n",
    "            dictionary[word] +=1\n",
    "    return dictionary"
   ]
  },
  {
   "cell_type": "code",
   "execution_count": 43,
   "id": "cb4124bc",
   "metadata": {},
   "outputs": [],
   "source": [
    "import math\n",
    "#https://stackoverflow.com/a/1602964\n",
    "def get_text_responsecoding(df):\n",
    "    text_feature_responseCoding = np.zeros((df.shape[0],9))\n",
    "    for i in range(0,9):\n",
    "        row_index = 0\n",
    "        for index, row in df.iterrows():\n",
    "            sum_prob = 0\n",
    "            for word in row['TEXT'].split():\n",
    "                sum_prob += math.log(((dict_list[i].get(word,0)+10 )/(total_dict.get(word,0)+90)))\n",
    "            text_feature_responseCoding[row_index][i] = math.exp(sum_prob/len(row['TEXT'].split()))\n",
    "            row_index += 1\n",
    "    return text_feature_responseCoding"
   ]
  },
  {
   "cell_type": "code",
   "execution_count": 44,
   "id": "60525368",
   "metadata": {},
   "outputs": [
    {
     "name": "stdout",
     "output_type": "stream",
     "text": [
      "Total number of unique words in train data : 53129\n"
     ]
    }
   ],
   "source": [
    "# building a CountVectorizer with all the words that occured minimum 3 times in train data\n",
    "text_vectorizer = CountVectorizer(min_df=3)\n",
    "train_text_feature_onehotCoding = text_vectorizer.fit_transform(train_df['TEXT'])\n",
    "# getting all the feature names (words)\n",
    "train_text_features= text_vectorizer.get_feature_names_out()\n",
    "\n",
    "# train_text_feature_onehotCoding.sum(axis=0).A1 will sum every row and returns (1*number of features) vector\n",
    "train_text_fea_counts = train_text_feature_onehotCoding.sum(axis=0).A1\n",
    "\n",
    "# zip(list(text_features),text_fea_counts) will zip a word with its number of times it occured\n",
    "text_fea_dict = dict(zip(list(train_text_features),train_text_fea_counts))\n",
    "\n",
    "\n",
    "print(\"Total number of unique words in train data :\", len(train_text_features))"
   ]
  },
  {
   "cell_type": "code",
   "execution_count": 45,
   "id": "3cedbaff",
   "metadata": {},
   "outputs": [],
   "source": [
    "dict_list = [] \n",
    "# dict_list =[] contains 9 dictoinaries each corresponds to a class\n",
    "for i in range(1,10):\n",
    "    cls_text = train_df[train_df['Class']==i]   # get the text data of that class\n",
    "    # build a word dict based on the words in that class\n",
    "    dict_list.append(extract_dictionary_paddle(cls_text))\n",
    "    # append it to dict_list\n",
    "\n",
    "# dict_list[i] is build on i'th  class text data\n",
    "# total_dict is buid on whole training text data\n",
    "total_dict = extract_dictionary_paddle(train_df)\n",
    "\n",
    "\n",
    "confuse_array = []   #  For each word, a vector of ratios showing its relative frequency in each class (smoothed).\n",
    "for i in train_text_features:\n",
    "    ratios = []\n",
    "    max_val = -1\n",
    "    for j in range(0,9):\n",
    "        ratios.append((dict_list[j][i]+10 )/(total_dict[i]+90))   # laplace smoothing is applied  \n",
    "    confuse_array.append(ratios)\n",
    "confuse_array = np.array(confuse_array)"
   ]
  },
  {
   "cell_type": "code",
   "execution_count": 46,
   "id": "cd23cf4b",
   "metadata": {},
   "outputs": [],
   "source": [
    "#response coding of text features\n",
    "train_text_feature_responseCoding  = get_text_responsecoding(train_df)\n",
    "test_text_feature_responseCoding  = get_text_responsecoding(test_df)\n",
    "cv_text_feature_responseCoding  = get_text_responsecoding(cv_df)"
   ]
  },
  {
   "cell_type": "code",
   "execution_count": 47,
   "id": "76aa89de",
   "metadata": {},
   "outputs": [],
   "source": [
    "# https://stackoverflow.com/a/16202486\n",
    "# we convert each row values such that they sum to 1  \n",
    "train_text_feature_responseCoding = (train_text_feature_responseCoding.T/train_text_feature_responseCoding.sum(axis=1)).T\n",
    "test_text_feature_responseCoding = (test_text_feature_responseCoding.T/test_text_feature_responseCoding.sum(axis=1)).T\n",
    "cv_text_feature_responseCoding = (cv_text_feature_responseCoding.T/cv_text_feature_responseCoding.sum(axis=1)).T"
   ]
  },
  {
   "cell_type": "code",
   "execution_count": 48,
   "id": "bd144026",
   "metadata": {},
   "outputs": [],
   "source": [
    "# don't forget to normalize every feature\n",
    "train_text_feature_onehotCoding = normalize(train_text_feature_onehotCoding, axis=0)\n",
    "\n",
    "# we use the same vectorizer that was trained on train data\n",
    "test_text_feature_onehotCoding = text_vectorizer.transform(test_df['TEXT'])\n",
    "# don't forget to normalize every feature\n",
    "test_text_feature_onehotCoding = normalize(test_text_feature_onehotCoding, axis=0)\n",
    "\n",
    "# we use the same vectorizer that was trained on train data\n",
    "cv_text_feature_onehotCoding = text_vectorizer.transform(cv_df['TEXT'])\n",
    "# don't forget to normalize every feature\n",
    "cv_text_feature_onehotCoding = normalize(cv_text_feature_onehotCoding, axis=0)"
   ]
  },
  {
   "cell_type": "code",
   "execution_count": 49,
   "id": "e7dc52d1",
   "metadata": {},
   "outputs": [],
   "source": [
    "#https://stackoverflow.com/a/2258273/4084039\n",
    "sorted_text_fea_dict = dict(sorted(text_fea_dict.items(), key=lambda x: x[1] , reverse=True))\n",
    "sorted_text_occur = np.array(list(sorted_text_fea_dict.values()))\n",
    "# So, sorted_text_occur contains the counts of all words (with at least 3 occurrences), sorted from highest to lowest. This array is useful for analyzing the distribution of word frequencies, such as seeing how many words appear very often versus how many are rare.\n"
   ]
  },
  {
   "cell_type": "code",
   "execution_count": 50,
   "id": "d2c77acc",
   "metadata": {},
   "outputs": [
    {
     "name": "stdout",
     "output_type": "stream",
     "text": [
      "Counter({3: 5225, 4: 3890, 5: 2816, 6: 2776, 7: 2372, 9: 1949, 8: 1807, 10: 1392, 12: 1200, 13: 1177, 11: 954, 14: 885, 15: 852, 16: 769, 18: 723, 17: 688, 20: 613, 21: 475, 19: 474, 24: 450, 25: 434, 22: 413, 28: 407, 26: 393, 27: 372, 23: 358, 30: 357, 38: 326, 51: 301, 36: 300, 29: 291, 35: 288, 32: 268, 31: 267, 33: 260, 34: 240, 40: 236, 42: 214, 39: 209, 45: 204, 37: 201, 44: 199, 52: 179, 41: 166, 48: 158, 54: 156, 46: 156, 43: 156, 50: 155, 56: 151, 47: 140, 55: 139, 49: 138, 60: 137, 53: 136, 58: 129, 57: 125, 70: 121, 66: 114, 64: 113, 72: 110, 67: 108, 65: 108, 62: 101, 61: 101, 63: 100, 59: 100, 69: 95, 68: 95, 90: 93, 84: 92, 75: 91, 77: 89, 78: 77, 76: 77, 74: 77, 79: 74, 81: 73, 91: 71, 80: 69, 102: 68, 87: 68, 71: 67, 92: 66, 96: 65, 95: 65, 89: 65, 73: 65, 88: 63, 86: 63, 103: 62, 83: 62, 82: 61, 109: 59, 108: 58, 100: 57, 117: 54, 85: 53, 110: 52, 105: 52, 104: 52, 101: 52, 98: 52, 93: 52, 118: 50, 97: 50, 94: 49, 114: 48, 99: 48, 121: 47, 115: 47, 150: 46, 111: 46, 107: 46, 125: 45, 120: 44, 106: 44, 143: 42, 126: 42, 146: 41, 139: 41, 113: 41, 140: 40, 138: 39, 137: 39, 136: 39, 135: 39, 122: 39, 142: 38, 116: 37, 144: 36, 124: 36, 119: 36, 156: 35, 145: 35, 128: 35, 127: 35, 155: 34, 112: 34, 153: 33, 134: 33, 123: 33, 152: 32, 141: 31, 131: 31, 183: 30, 179: 30, 158: 30, 149: 30, 129: 29, 210: 28, 177: 28, 175: 28, 157: 28, 130: 28, 191: 27, 182: 27, 164: 27, 133: 27, 211: 26, 200: 26, 190: 26, 176: 26, 161: 26, 151: 26, 195: 25, 192: 25, 180: 25, 168: 25, 165: 25, 132: 25, 206: 24, 160: 24, 220: 23, 162: 23, 196: 22, 188: 22, 187: 22, 171: 22, 170: 22, 154: 22, 148: 22, 271: 21, 219: 21, 217: 21, 208: 21, 172: 21, 163: 21, 291: 20, 255: 20, 245: 20, 232: 20, 225: 20, 201: 20, 199: 20, 197: 20, 279: 19, 239: 19, 228: 19, 209: 19, 194: 19, 173: 19, 166: 19, 159: 19, 147: 19, 299: 18, 237: 18, 231: 18, 218: 18, 215: 18, 204: 18, 203: 18, 198: 18, 189: 18, 186: 18, 184: 18, 174: 18, 169: 18, 335: 17, 273: 17, 270: 17, 259: 17, 246: 17, 238: 17, 234: 17, 230: 17, 221: 17, 213: 17, 212: 17, 207: 17, 202: 17, 181: 17, 304: 16, 265: 16, 256: 16, 253: 16, 247: 16, 222: 16, 214: 16, 205: 16, 308: 15, 268: 15, 254: 15, 244: 15, 223: 15, 216: 15, 193: 15, 185: 15, 178: 15, 167: 15, 358: 14, 332: 14, 295: 14, 289: 14, 282: 14, 280: 14, 276: 14, 264: 14, 263: 14, 243: 14, 240: 14, 310: 13, 305: 13, 278: 13, 277: 13, 260: 13, 250: 13, 248: 13, 241: 13, 235: 13, 448: 12, 413: 12, 388: 12, 349: 12, 345: 12, 320: 12, 315: 12, 302: 12, 258: 12, 257: 12, 251: 12, 817: 11, 399: 11, 369: 11, 361: 11, 344: 11, 334: 11, 333: 11, 325: 11, 311: 11, 293: 11, 288: 11, 286: 11, 275: 11, 267: 11, 261: 11, 229: 11, 224: 11, 590: 10, 464: 10, 447: 10, 433: 10, 424: 10, 407: 10, 395: 10, 380: 10, 372: 10, 342: 10, 336: 10, 331: 10, 322: 10, 316: 10, 306: 10, 303: 10, 301: 10, 298: 10, 294: 10, 287: 10, 283: 10, 281: 10, 266: 10, 236: 10, 227: 10, 527: 9, 501: 9, 406: 9, 400: 9, 389: 9, 382: 9, 377: 9, 373: 9, 370: 9, 363: 9, 352: 9, 340: 9, 312: 9, 307: 9, 290: 9, 285: 9, 252: 9, 249: 9, 242: 9, 226: 9, 759: 8, 531: 8, 526: 8, 524: 8, 510: 8, 509: 8, 488: 8, 466: 8, 456: 8, 443: 8, 434: 8, 422: 8, 390: 8, 386: 8, 360: 8, 357: 8, 356: 8, 355: 8, 351: 8, 338: 8, 327: 8, 326: 8, 318: 8, 309: 8, 297: 8, 292: 8, 269: 8, 262: 8, 233: 8, 795: 7, 748: 7, 740: 7, 627: 7, 618: 7, 547: 7, 540: 7, 538: 7, 517: 7, 498: 7, 495: 7, 487: 7, 486: 7, 449: 7, 440: 7, 436: 7, 435: 7, 431: 7, 429: 7, 427: 7, 425: 7, 420: 7, 418: 7, 405: 7, 394: 7, 387: 7, 379: 7, 376: 7, 371: 7, 366: 7, 353: 7, 348: 7, 337: 7, 330: 7, 329: 7, 324: 7, 323: 7, 319: 7, 314: 7, 272: 7, 903: 6, 851: 6, 828: 6, 772: 6, 753: 6, 733: 6, 697: 6, 670: 6, 665: 6, 661: 6, 657: 6, 652: 6, 644: 6, 642: 6, 641: 6, 637: 6, 636: 6, 630: 6, 620: 6, 583: 6, 581: 6, 575: 6, 573: 6, 569: 6, 565: 6, 563: 6, 550: 6, 549: 6, 541: 6, 539: 6, 537: 6, 536: 6, 500: 6, 497: 6, 469: 6, 463: 6, 462: 6, 452: 6, 451: 6, 442: 6, 437: 6, 419: 6, 417: 6, 412: 6, 410: 6, 408: 6, 404: 6, 398: 6, 393: 6, 392: 6, 384: 6, 383: 6, 378: 6, 375: 6, 368: 6, 364: 6, 359: 6, 354: 6, 350: 6, 346: 6, 339: 6, 328: 6, 317: 6, 313: 6, 300: 6, 296: 6, 274: 6, 1545: 5, 1123: 5, 977: 5, 953: 5, 863: 5, 855: 5, 848: 5, 843: 5, 788: 5, 768: 5, 735: 5, 720: 5, 691: 5, 671: 5, 663: 5, 662: 5, 659: 5, 655: 5, 639: 5, 629: 5, 614: 5, 612: 5, 602: 5, 594: 5, 564: 5, 557: 5, 554: 5, 542: 5, 533: 5, 528: 5, 522: 5, 513: 5, 512: 5, 507: 5, 502: 5, 499: 5, 494: 5, 492: 5, 491: 5, 490: 5, 480: 5, 476: 5, 474: 5, 473: 5, 472: 5, 471: 5, 465: 5, 460: 5, 458: 5, 457: 5, 445: 5, 444: 5, 441: 5, 428: 5, 416: 5, 411: 5, 409: 5, 402: 5, 401: 5, 396: 5, 381: 5, 347: 5, 341: 5, 321: 5, 1748: 4, 1496: 4, 1414: 4, 1347: 4, 1322: 4, 1280: 4, 1274: 4, 1246: 4, 1159: 4, 1158: 4, 1152: 4, 1107: 4, 1031: 4, 1022: 4, 1019: 4, 1017: 4, 976: 4, 974: 4, 961: 4, 960: 4, 959: 4, 939: 4, 926: 4, 895: 4, 891: 4, 873: 4, 872: 4, 847: 4, 841: 4, 809: 4, 808: 4, 806: 4, 775: 4, 760: 4, 756: 4, 752: 4, 743: 4, 732: 4, 729: 4, 723: 4, 712: 4, 706: 4, 688: 4, 682: 4, 679: 4, 667: 4, 666: 4, 650: 4, 649: 4, 647: 4, 646: 4, 633: 4, 632: 4, 621: 4, 619: 4, 617: 4, 616: 4, 611: 4, 608: 4, 607: 4, 606: 4, 596: 4, 593: 4, 592: 4, 587: 4, 586: 4, 584: 4, 577: 4, 576: 4, 568: 4, 567: 4, 566: 4, 560: 4, 558: 4, 556: 4, 545: 4, 535: 4, 534: 4, 525: 4, 523: 4, 520: 4, 518: 4, 506: 4, 505: 4, 504: 4, 493: 4, 485: 4, 484: 4, 481: 4, 479: 4, 478: 4, 477: 4, 468: 4, 459: 4, 455: 4, 450: 4, 446: 4, 439: 4, 432: 4, 430: 4, 403: 4, 391: 4, 385: 4, 367: 4, 365: 4, 343: 4, 284: 4, 3567: 3, 3552: 3, 2810: 3, 2319: 3, 2277: 3, 2275: 3, 2088: 3, 2034: 3, 1968: 3, 1944: 3, 1937: 3, 1925: 3, 1911: 3, 1908: 3, 1898: 3, 1890: 3, 1814: 3, 1807: 3, 1752: 3, 1653: 3, 1634: 3, 1626: 3, 1612: 3, 1598: 3, 1584: 3, 1575: 3, 1519: 3, 1494: 3, 1409: 3, 1358: 3, 1323: 3, 1314: 3, 1306: 3, 1295: 3, 1294: 3, 1289: 3, 1286: 3, 1284: 3, 1272: 3, 1268: 3, 1259: 3, 1248: 3, 1237: 3, 1232: 3, 1211: 3, 1209: 3, 1208: 3, 1207: 3, 1206: 3, 1189: 3, 1166: 3, 1163: 3, 1157: 3, 1151: 3, 1147: 3, 1144: 3, 1135: 3, 1098: 3, 1093: 3, 1086: 3, 1085: 3, 1076: 3, 1074: 3, 1070: 3, 1067: 3, 1064: 3, 1060: 3, 1052: 3, 1051: 3, 1016: 3, 1005: 3, 1004: 3, 997: 3, 996: 3, 982: 3, 973: 3, 970: 3, 968: 3, 964: 3, 963: 3, 949: 3, 944: 3, 940: 3, 938: 3, 934: 3, 908: 3, 907: 3, 901: 3, 899: 3, 898: 3, 896: 3, 894: 3, 890: 3, 887: 3, 886: 3, 880: 3, 879: 3, 875: 3, 869: 3, 867: 3, 865: 3, 849: 3, 846: 3, 842: 3, 837: 3, 836: 3, 834: 3, 821: 3, 820: 3, 818: 3, 814: 3, 807: 3, 803: 3, 797: 3, 796: 3, 793: 3, 792: 3, 790: 3, 787: 3, 785: 3, 783: 3, 778: 3, 774: 3, 773: 3, 766: 3, 764: 3, 755: 3, 750: 3, 744: 3, 737: 3, 736: 3, 734: 3, 718: 3, 717: 3, 716: 3, 711: 3, 709: 3, 705: 3, 704: 3, 701: 3, 668: 3, 664: 3, 660: 3, 656: 3, 651: 3, 648: 3, 634: 3, 626: 3, 624: 3, 623: 3, 610: 3, 605: 3, 603: 3, 600: 3, 599: 3, 598: 3, 597: 3, 572: 3, 571: 3, 570: 3, 561: 3, 553: 3, 548: 3, 546: 3, 543: 3, 530: 3, 521: 3, 515: 3, 511: 3, 503: 3, 483: 3, 482: 3, 470: 3, 461: 3, 454: 3, 438: 3, 423: 3, 414: 3, 374: 3, 362: 3, 16348: 2, 9543: 2, 9373: 2, 9059: 2, 7935: 2, 7619: 2, 6462: 2, 5493: 2, 5236: 2, 5013: 2, 4715: 2, 4477: 2, 4336: 2, 4305: 2, 4259: 2, 4243: 2, 4126: 2, 4116: 2, 4093: 2, 3951: 2, 3849: 2, 3795: 2, 3759: 2, 3703: 2, 3682: 2, 3628: 2, 3527: 2, 3516: 2, 3446: 2, 3332: 2, 3291: 2, 3290: 2, 3257: 2, 3249: 2, 3247: 2, 3246: 2, 3164: 2, 3161: 2, 3140: 2, 3131: 2, 2998: 2, 2979: 2, 2977: 2, 2927: 2, 2913: 2, 2911: 2, 2879: 2, 2799: 2, 2716: 2, 2692: 2, 2687: 2, 2584: 2, 2583: 2, 2563: 2, 2523: 2, 2502: 2, 2495: 2, 2494: 2, 2449: 2, 2444: 2, 2438: 2, 2416: 2, 2405: 2, 2400: 2, 2398: 2, 2392: 2, 2381: 2, 2380: 2, 2358: 2, 2338: 2, 2294: 2, 2260: 2, 2254: 2, 2236: 2, 2228: 2, 2226: 2, 2223: 2, 2201: 2, 2197: 2, 2180: 2, 2110: 2, 2095: 2, 2085: 2, 2060: 2, 2050: 2, 2045: 2, 2043: 2, 2032: 2, 2031: 2, 2027: 2, 2025: 2, 2013: 2, 1996: 2, 1988: 2, 1982: 2, 1981: 2, 1974: 2, 1973: 2, 1955: 2, 1942: 2, 1939: 2, 1932: 2, 1929: 2, 1927: 2, 1923: 2, 1915: 2, 1909: 2, 1895: 2, 1881: 2, 1853: 2, 1852: 2, 1833: 2, 1827: 2, 1826: 2, 1810: 2, 1803: 2, 1801: 2, 1793: 2, 1792: 2, 1783: 2, 1780: 2, 1770: 2, 1733: 2, 1729: 2, 1726: 2, 1723: 2, 1720: 2, 1714: 2, 1712: 2, 1710: 2, 1706: 2, 1703: 2, 1702: 2, 1694: 2, 1691: 2, 1682: 2, 1680: 2, 1677: 2, 1674: 2, 1666: 2, 1651: 2, 1650: 2, 1642: 2, 1635: 2, 1625: 2, 1620: 2, 1606: 2, 1602: 2, 1581: 2, 1580: 2, 1577: 2, 1574: 2, 1565: 2, 1560: 2, 1556: 2, 1553: 2, 1551: 2, 1544: 2, 1538: 2, 1535: 2, 1532: 2, 1524: 2, 1520: 2, 1516: 2, 1514: 2, 1507: 2, 1505: 2, 1492: 2, 1489: 2, 1485: 2, 1483: 2, 1468: 2, 1456: 2, 1446: 2, 1444: 2, 1443: 2, 1440: 2, 1436: 2, 1432: 2, 1424: 2, 1423: 2, 1420: 2, 1413: 2, 1403: 2, 1402: 2, 1392: 2, 1385: 2, 1382: 2, 1379: 2, 1378: 2, 1366: 2, 1361: 2, 1357: 2, 1353: 2, 1345: 2, 1340: 2, 1338: 2, 1337: 2, 1333: 2, 1332: 2, 1325: 2, 1324: 2, 1321: 2, 1313: 2, 1304: 2, 1303: 2, 1302: 2, 1297: 2, 1290: 2, 1285: 2, 1283: 2, 1266: 2, 1264: 2, 1261: 2, 1255: 2, 1251: 2, 1249: 2, 1245: 2, 1244: 2, 1242: 2, 1238: 2, 1236: 2, 1231: 2, 1228: 2, 1225: 2, 1224: 2, 1220: 2, 1217: 2, 1214: 2, 1200: 2, 1195: 2, 1194: 2, 1193: 2, 1184: 2, 1181: 2, 1180: 2, 1176: 2, 1171: 2, 1169: 2, 1168: 2, 1155: 2, 1149: 2, 1148: 2, 1146: 2, 1143: 2, 1141: 2, 1140: 2, 1133: 2, 1129: 2, 1127: 2, 1122: 2, 1121: 2, 1119: 2, 1106: 2, 1105: 2, 1104: 2, 1097: 2, 1095: 2, 1091: 2, 1090: 2, 1087: 2, 1083: 2, 1077: 2, 1058: 2, 1057: 2, 1055: 2, 1042: 2, 1039: 2, 1033: 2, 1029: 2, 1021: 2, 1014: 2, 1011: 2, 1009: 2, 1008: 2, 1007: 2, 1002: 2, 991: 2, 989: 2, 986: 2, 979: 2, 975: 2, 965: 2, 954: 2, 951: 2, 950: 2, 946: 2, 942: 2, 941: 2, 936: 2, 935: 2, 933: 2, 929: 2, 925: 2, 920: 2, 919: 2, 918: 2, 916: 2, 915: 2, 914: 2, 912: 2, 911: 2, 910: 2, 904: 2, 902: 2, 900: 2, 884: 2, 882: 2, 881: 2, 878: 2, 876: 2, 870: 2, 868: 2, 866: 2, 862: 2, 860: 2, 858: 2, 856: 2, 854: 2, 853: 2, 852: 2, 845: 2, 840: 2, 835: 2, 829: 2, 825: 2, 824: 2, 822: 2, 812: 2, 804: 2, 799: 2, 798: 2, 794: 2, 789: 2, 786: 2, 784: 2, 777: 2, 769: 2, 758: 2, 754: 2, 747: 2, 745: 2, 742: 2, 741: 2, 738: 2, 731: 2, 727: 2, 726: 2, 724: 2, 722: 2, 719: 2, 715: 2, 714: 2, 710: 2, 702: 2, 696: 2, 695: 2, 686: 2, 683: 2, 681: 2, 675: 2, 672: 2, 658: 2, 653: 2, 645: 2, 643: 2, 640: 2, 638: 2, 635: 2, 622: 2, 613: 2, 609: 2, 604: 2, 589: 2, 588: 2, 579: 2, 578: 2, 555: 2, 551: 2, 544: 2, 532: 2, 529: 2, 519: 2, 508: 2, 496: 2, 489: 2, 475: 2, 426: 2, 415: 2, 397: 2, 148525: 1, 116321: 1, 79305: 1, 66614: 1, 64352: 1, 64282: 1, 64270: 1, 62759: 1, 62050: 1, 53290: 1, 52943: 1, 49100: 1, 47261: 1, 45356: 1, 45198: 1, 44314: 1, 41649: 1, 41601: 1, 41354: 1, 40574: 1, 39835: 1, 39248: 1, 39086: 1, 38240: 1, 37657: 1, 37165: 1, 35446: 1, 35303: 1, 35044: 1, 33678: 1, 33508: 1, 32442: 1, 32331: 1, 31588: 1, 31512: 1, 30568: 1, 28986: 1, 27299: 1, 26678: 1, 25816: 1, 25579: 1, 25565: 1, 25480: 1, 25350: 1, 25115: 1, 25017: 1, 24573: 1, 24100: 1, 24046: 1, 23840: 1, 23709: 1, 23530: 1, 23148: 1, 21959: 1, 21929: 1, 21457: 1, 21451: 1, 21056: 1, 21045: 1, 20764: 1, 20728: 1, 20164: 1, 19903: 1, 19728: 1, 19405: 1, 19109: 1, 18982: 1, 18970: 1, 18862: 1, 18725: 1, 18492: 1, 18440: 1, 18335: 1, 18293: 1, 18156: 1, 18029: 1, 18016: 1, 17924: 1, 17822: 1, 17654: 1, 17607: 1, 17451: 1, 17327: 1, 17269: 1, 17080: 1, 17040: 1, 16909: 1, 16868: 1, 16861: 1, 16829: 1, 16715: 1, 16669: 1, 16646: 1, 16585: 1, 16372: 1, 16045: 1, 15728: 1, 15548: 1, 15527: 1, 15482: 1, 15479: 1, 15396: 1, 15377: 1, 15371: 1, 15138: 1, 15123: 1, 15023: 1, 14971: 1, 14957: 1, 14761: 1, 14532: 1, 14465: 1, 14373: 1, 14326: 1, 14303: 1, 14241: 1, 14177: 1, 14105: 1, 13938: 1, 13534: 1, 13353: 1, 13349: 1, 13271: 1, 13137: 1, 12993: 1, 12982: 1, 12979: 1, 12977: 1, 12955: 1, 12924: 1, 12909: 1, 12864: 1, 12627: 1, 12622: 1, 12613: 1, 12579: 1, 12515: 1, 12367: 1, 12365: 1, 12231: 1, 12172: 1, 12155: 1, 12144: 1, 12142: 1, 12119: 1, 12100: 1, 12089: 1, 12049: 1, 11997: 1, 11987: 1, 11984: 1, 11976: 1, 11938: 1, 11926: 1, 11900: 1, 11887: 1, 11867: 1, 11818: 1, 11763: 1, 11710: 1, 11689: 1, 11682: 1, 11680: 1, 11642: 1, 11613: 1, 11542: 1, 11524: 1, 11514: 1, 11491: 1, 11377: 1, 11319: 1, 11315: 1, 11198: 1, 11103: 1, 11095: 1, 11030: 1, 11019: 1, 10931: 1, 10924: 1, 10878: 1, 10869: 1, 10755: 1, 10716: 1, 10643: 1, 10538: 1, 10416: 1, 10332: 1, 10277: 1, 10211: 1, 10137: 1, 10125: 1, 10116: 1, 10101: 1, 9949: 1, 9906: 1, 9901: 1, 9844: 1, 9839: 1, 9797: 1, 9773: 1, 9720: 1, 9704: 1, 9676: 1, 9660: 1, 9634: 1, 9633: 1, 9503: 1, 9498: 1, 9444: 1, 9363: 1, 9357: 1, 9283: 1, 9274: 1, 9209: 1, 9197: 1, 9156: 1, 9152: 1, 9131: 1, 9121: 1, 9045: 1, 9000: 1, 8994: 1, 8989: 1, 8876: 1, 8836: 1, 8834: 1, 8799: 1, 8796: 1, 8738: 1, 8714: 1, 8688: 1, 8683: 1, 8664: 1, 8659: 1, 8654: 1, 8562: 1, 8535: 1, 8513: 1, 8499: 1, 8494: 1, 8428: 1, 8418: 1, 8409: 1, 8392: 1, 8378: 1, 8341: 1, 8320: 1, 8309: 1, 8278: 1, 8230: 1, 8222: 1, 8201: 1, 8193: 1, 8189: 1, 8169: 1, 8130: 1, 8032: 1, 8029: 1, 8010: 1, 8001: 1, 7995: 1, 7977: 1, 7967: 1, 7915: 1, 7905: 1, 7902: 1, 7876: 1, 7796: 1, 7787: 1, 7786: 1, 7735: 1, 7732: 1, 7695: 1, 7684: 1, 7647: 1, 7645: 1, 7610: 1, 7584: 1, 7559: 1, 7533: 1, 7528: 1, 7447: 1, 7437: 1, 7420: 1, 7401: 1, 7376: 1, 7371: 1, 7369: 1, 7366: 1, 7346: 1, 7344: 1, 7333: 1, 7320: 1, 7319: 1, 7274: 1, 7243: 1, 7179: 1, 7171: 1, 7170: 1, 7133: 1, 7121: 1, 7080: 1, 7073: 1, 7061: 1, 7047: 1, 7036: 1, 7034: 1, 7002: 1, 6978: 1, 6959: 1, 6951: 1, 6944: 1, 6937: 1, 6928: 1, 6926: 1, 6887: 1, 6876: 1, 6874: 1, 6858: 1, 6846: 1, 6831: 1, 6827: 1, 6818: 1, 6797: 1, 6790: 1, 6774: 1, 6764: 1, 6762: 1, 6759: 1, 6758: 1, 6756: 1, 6743: 1, 6702: 1, 6646: 1, 6630: 1, 6590: 1, 6583: 1, 6543: 1, 6533: 1, 6532: 1, 6500: 1, 6485: 1, 6465: 1, 6464: 1, 6460: 1, 6445: 1, 6431: 1, 6417: 1, 6416: 1, 6379: 1, 6372: 1, 6348: 1, 6326: 1, 6311: 1, 6293: 1, 6286: 1, 6249: 1, 6243: 1, 6233: 1, 6222: 1, 6219: 1, 6216: 1, 6196: 1, 6195: 1, 6142: 1, 6132: 1, 6122: 1, 6116: 1, 6091: 1, 6077: 1, 6068: 1, 5994: 1, 5989: 1, 5987: 1, 5952: 1, 5948: 1, 5946: 1, 5938: 1, 5913: 1, 5880: 1, 5857: 1, 5832: 1, 5829: 1, 5799: 1, 5788: 1, 5764: 1, 5762: 1, 5760: 1, 5758: 1, 5739: 1, 5733: 1, 5724: 1, 5698: 1, 5682: 1, 5677: 1, 5676: 1, 5675: 1, 5674: 1, 5663: 1, 5659: 1, 5653: 1, 5652: 1, 5642: 1, 5632: 1, 5622: 1, 5618: 1, 5609: 1, 5597: 1, 5584: 1, 5579: 1, 5548: 1, 5535: 1, 5518: 1, 5516: 1, 5468: 1, 5465: 1, 5454: 1, 5449: 1, 5447: 1, 5440: 1, 5426: 1, 5419: 1, 5416: 1, 5414: 1, 5412: 1, 5406: 1, 5400: 1, 5390: 1, 5387: 1, 5377: 1, 5375: 1, 5350: 1, 5331: 1, 5315: 1, 5309: 1, 5276: 1, 5241: 1, 5210: 1, 5198: 1, 5190: 1, 5189: 1, 5165: 1, 5160: 1, 5150: 1, 5146: 1, 5125: 1, 5124: 1, 5088: 1, 5086: 1, 5080: 1, 5079: 1, 5037: 1, 5006: 1, 5004: 1, 5002: 1, 4998: 1, 4975: 1, 4955: 1, 4953: 1, 4940: 1, 4938: 1, 4934: 1, 4912: 1, 4907: 1, 4902: 1, 4890: 1, 4888: 1, 4886: 1, 4879: 1, 4872: 1, 4853: 1, 4847: 1, 4831: 1, 4822: 1, 4815: 1, 4811: 1, 4809: 1, 4802: 1, 4801: 1, 4796: 1, 4758: 1, 4757: 1, 4744: 1, 4743: 1, 4729: 1, 4727: 1, 4724: 1, 4722: 1, 4720: 1, 4714: 1, 4712: 1, 4711: 1, 4707: 1, 4706: 1, 4700: 1, 4696: 1, 4668: 1, 4655: 1, 4639: 1, 4632: 1, 4631: 1, 4626: 1, 4612: 1, 4600: 1, 4590: 1, 4584: 1, 4578: 1, 4558: 1, 4555: 1, 4550: 1, 4549: 1, 4543: 1, 4541: 1, 4535: 1, 4530: 1, 4493: 1, 4488: 1, 4469: 1, 4447: 1, 4437: 1, 4435: 1, 4409: 1, 4400: 1, 4376: 1, 4375: 1, 4370: 1, 4355: 1, 4341: 1, 4340: 1, 4332: 1, 4327: 1, 4325: 1, 4318: 1, 4311: 1, 4308: 1, 4307: 1, 4303: 1, 4302: 1, 4299: 1, 4297: 1, 4294: 1, 4290: 1, 4277: 1, 4273: 1, 4270: 1, 4260: 1, 4250: 1, 4231: 1, 4230: 1, 4224: 1, 4207: 1, 4201: 1, 4200: 1, 4196: 1, 4173: 1, 4170: 1, 4169: 1, 4166: 1, 4162: 1, 4161: 1, 4158: 1, 4145: 1, 4143: 1, 4125: 1, 4123: 1, 4121: 1, 4109: 1, 4097: 1, 4096: 1, 4091: 1, 4080: 1, 4079: 1, 4067: 1, 4064: 1, 4061: 1, 4053: 1, 4030: 1, 4004: 1, 4003: 1, 4001: 1, 3998: 1, 3994: 1, 3989: 1, 3975: 1, 3971: 1, 3968: 1, 3967: 1, 3961: 1, 3946: 1, 3935: 1, 3929: 1, 3921: 1, 3920: 1, 3919: 1, 3910: 1, 3903: 1, 3897: 1, 3890: 1, 3884: 1, 3873: 1, 3870: 1, 3858: 1, 3853: 1, 3848: 1, 3842: 1, 3837: 1, 3834: 1, 3821: 1, 3820: 1, 3812: 1, 3806: 1, 3787: 1, 3782: 1, 3773: 1, 3771: 1, 3753: 1, 3747: 1, 3740: 1, 3736: 1, 3697: 1, 3692: 1, 3690: 1, 3689: 1, 3686: 1, 3683: 1, 3678: 1, 3661: 1, 3659: 1, 3655: 1, 3653: 1, 3652: 1, 3645: 1, 3638: 1, 3633: 1, 3631: 1, 3629: 1, 3625: 1, 3620: 1, 3619: 1, 3605: 1, 3602: 1, 3601: 1, 3597: 1, 3592: 1, 3587: 1, 3582: 1, 3572: 1, 3571: 1, 3565: 1, 3558: 1, 3553: 1, 3546: 1, 3537: 1, 3534: 1, 3530: 1, 3528: 1, 3526: 1, 3521: 1, 3515: 1, 3511: 1, 3506: 1, 3499: 1, 3494: 1, 3491: 1, 3490: 1, 3487: 1, 3482: 1, 3474: 1, 3464: 1, 3463: 1, 3459: 1, 3458: 1, 3455: 1, 3454: 1, 3449: 1, 3447: 1, 3441: 1, 3435: 1, 3434: 1, 3433: 1, 3431: 1, 3424: 1, 3419: 1, 3412: 1, 3411: 1, 3391: 1, 3390: 1, 3386: 1, 3383: 1, 3376: 1, 3368: 1, 3364: 1, 3354: 1, 3353: 1, 3351: 1, 3349: 1, 3348: 1, 3347: 1, 3345: 1, 3343: 1, 3339: 1, 3338: 1, 3337: 1, 3334: 1, 3331: 1, 3328: 1, 3323: 1, 3322: 1, 3319: 1, 3317: 1, 3313: 1, 3297: 1, 3294: 1, 3286: 1, 3280: 1, 3276: 1, 3262: 1, 3260: 1, 3253: 1, 3250: 1, 3248: 1, 3237: 1, 3232: 1, 3231: 1, 3228: 1, 3224: 1, 3222: 1, 3219: 1, 3217: 1, 3203: 1, 3195: 1, 3194: 1, 3188: 1, 3184: 1, 3181: 1, 3179: 1, 3178: 1, 3177: 1, 3176: 1, 3173: 1, 3156: 1, 3134: 1, 3132: 1, 3124: 1, 3122: 1, 3117: 1, 3116: 1, 3115: 1, 3114: 1, 3113: 1, 3109: 1, 3105: 1, 3102: 1, 3098: 1, 3089: 1, 3086: 1, 3074: 1, 3071: 1, 3069: 1, 3068: 1, 3067: 1, 3065: 1, 3054: 1, 3045: 1, 3042: 1, 3034: 1, 3033: 1, 3031: 1, 3028: 1, 3026: 1, 3017: 1, 3015: 1, 3014: 1, 2995: 1, 2978: 1, 2975: 1, 2974: 1, 2966: 1, 2964: 1, 2957: 1, 2956: 1, 2947: 1, 2945: 1, 2943: 1, 2933: 1, 2931: 1, 2926: 1, 2925: 1, 2923: 1, 2916: 1, 2914: 1, 2910: 1, 2906: 1, 2904: 1, 2901: 1, 2894: 1, 2892: 1, 2890: 1, 2885: 1, 2877: 1, 2875: 1, 2870: 1, 2867: 1, 2865: 1, 2864: 1, 2863: 1, 2862: 1, 2847: 1, 2840: 1, 2839: 1, 2838: 1, 2837: 1, 2835: 1, 2833: 1, 2828: 1, 2826: 1, 2821: 1, 2802: 1, 2796: 1, 2795: 1, 2794: 1, 2792: 1, 2791: 1, 2779: 1, 2758: 1, 2756: 1, 2753: 1, 2749: 1, 2747: 1, 2743: 1, 2733: 1, 2732: 1, 2730: 1, 2729: 1, 2724: 1, 2722: 1, 2713: 1, 2712: 1, 2703: 1, 2702: 1, 2694: 1, 2693: 1, 2690: 1, 2689: 1, 2686: 1, 2682: 1, 2661: 1, 2654: 1, 2649: 1, 2643: 1, 2637: 1, 2635: 1, 2634: 1, 2633: 1, 2632: 1, 2631: 1, 2624: 1, 2621: 1, 2620: 1, 2619: 1, 2613: 1, 2609: 1, 2607: 1, 2600: 1, 2596: 1, 2595: 1, 2594: 1, 2593: 1, 2591: 1, 2587: 1, 2582: 1, 2579: 1, 2572: 1, 2570: 1, 2568: 1, 2566: 1, 2565: 1, 2564: 1, 2562: 1, 2559: 1, 2555: 1, 2553: 1, 2552: 1, 2547: 1, 2544: 1, 2542: 1, 2540: 1, 2539: 1, 2536: 1, 2532: 1, 2530: 1, 2519: 1, 2518: 1, 2515: 1, 2514: 1, 2513: 1, 2508: 1, 2503: 1, 2501: 1, 2500: 1, 2499: 1, 2498: 1, 2493: 1, 2491: 1, 2488: 1, 2487: 1, 2481: 1, 2479: 1, 2471: 1, 2470: 1, 2467: 1, 2465: 1, 2463: 1, 2455: 1, 2454: 1, 2453: 1, 2446: 1, 2443: 1, 2442: 1, 2436: 1, 2433: 1, 2430: 1, 2429: 1, 2413: 1, 2408: 1, 2407: 1, 2406: 1, 2404: 1, 2403: 1, 2401: 1, 2399: 1, 2389: 1, 2374: 1, 2372: 1, 2370: 1, 2369: 1, 2367: 1, 2359: 1, 2355: 1, 2352: 1, 2348: 1, 2344: 1, 2343: 1, 2337: 1, 2335: 1, 2332: 1, 2329: 1, 2327: 1, 2322: 1, 2320: 1, 2303: 1, 2299: 1, 2296: 1, 2295: 1, 2288: 1, 2287: 1, 2285: 1, 2281: 1, 2280: 1, 2278: 1, 2276: 1, 2274: 1, 2268: 1, 2267: 1, 2264: 1, 2263: 1, 2259: 1, 2258: 1, 2256: 1, 2253: 1, 2251: 1, 2250: 1, 2240: 1, 2238: 1, 2235: 1, 2232: 1, 2229: 1, 2221: 1, 2217: 1, 2216: 1, 2215: 1, 2211: 1, 2209: 1, 2208: 1, 2204: 1, 2202: 1, 2192: 1, 2189: 1, 2188: 1, 2187: 1, 2184: 1, 2173: 1, 2172: 1, 2167: 1, 2166: 1, 2162: 1, 2161: 1, 2159: 1, 2154: 1, 2151: 1, 2140: 1, 2139: 1, 2136: 1, 2133: 1, 2121: 1, 2120: 1, 2118: 1, 2115: 1, 2114: 1, 2108: 1, 2107: 1, 2106: 1, 2105: 1, 2104: 1, 2101: 1, 2100: 1, 2096: 1, 2093: 1, 2091: 1, 2090: 1, 2087: 1, 2078: 1, 2076: 1, 2074: 1, 2071: 1, 2067: 1, 2065: 1, 2064: 1, 2059: 1, 2056: 1, 2052: 1, 2048: 1, 2047: 1, 2041: 1, 2040: 1, 2037: 1, 2035: 1, 2026: 1, 2022: 1, 2021: 1, 2020: 1, 2016: 1, 2014: 1, 2009: 1, 2007: 1, 2004: 1, 2002: 1, 2000: 1, 1994: 1, 1992: 1, 1987: 1, 1984: 1, 1983: 1, 1976: 1, 1967: 1, 1965: 1, 1962: 1, 1961: 1, 1960: 1, 1958: 1, 1953: 1, 1949: 1, 1948: 1, 1941: 1, 1940: 1, 1936: 1, 1934: 1, 1931: 1, 1924: 1, 1921: 1, 1919: 1, 1917: 1, 1916: 1, 1904: 1, 1903: 1, 1899: 1, 1889: 1, 1888: 1, 1884: 1, 1883: 1, 1882: 1, 1878: 1, 1876: 1, 1873: 1, 1871: 1, 1866: 1, 1859: 1, 1858: 1, 1851: 1, 1850: 1, 1846: 1, 1845: 1, 1836: 1, 1835: 1, 1832: 1, 1831: 1, 1829: 1, 1825: 1, 1824: 1, 1823: 1, 1822: 1, 1820: 1, 1819: 1, 1818: 1, 1816: 1, 1815: 1, 1805: 1, 1799: 1, 1791: 1, 1789: 1, 1786: 1, 1785: 1, 1784: 1, 1772: 1, 1771: 1, 1769: 1, 1768: 1, 1766: 1, 1765: 1, 1763: 1, 1756: 1, 1754: 1, 1746: 1, 1744: 1, 1743: 1, 1741: 1, 1740: 1, 1736: 1, 1730: 1, 1728: 1, 1724: 1, 1722: 1, 1721: 1, 1715: 1, 1711: 1, 1709: 1, 1708: 1, 1700: 1, 1693: 1, 1692: 1, 1687: 1, 1686: 1, 1681: 1, 1679: 1, 1673: 1, 1668: 1, 1667: 1, 1665: 1, 1664: 1, 1662: 1, 1658: 1, 1648: 1, 1647: 1, 1646: 1, 1645: 1, 1644: 1, 1643: 1, 1639: 1, 1638: 1, 1636: 1, 1630: 1, 1627: 1, 1623: 1, 1622: 1, 1621: 1, 1619: 1, 1618: 1, 1616: 1, 1615: 1, 1614: 1, 1613: 1, 1608: 1, 1607: 1, 1601: 1, 1595: 1, 1594: 1, 1592: 1, 1589: 1, 1586: 1, 1583: 1, 1576: 1, 1572: 1, 1571: 1, 1567: 1, 1562: 1, 1559: 1, 1558: 1, 1557: 1, 1554: 1, 1552: 1, 1546: 1, 1543: 1, 1541: 1, 1537: 1, 1536: 1, 1534: 1, 1533: 1, 1529: 1, 1528: 1, 1526: 1, 1522: 1, 1518: 1, 1517: 1, 1513: 1, 1512: 1, 1511: 1, 1510: 1, 1509: 1, 1508: 1, 1506: 1, 1504: 1, 1501: 1, 1499: 1, 1498: 1, 1491: 1, 1490: 1, 1487: 1, 1486: 1, 1484: 1, 1482: 1, 1480: 1, 1479: 1, 1474: 1, 1473: 1, 1472: 1, 1470: 1, 1469: 1, 1465: 1, 1464: 1, 1463: 1, 1462: 1, 1459: 1, 1458: 1, 1454: 1, 1453: 1, 1452: 1, 1451: 1, 1449: 1, 1447: 1, 1442: 1, 1441: 1, 1438: 1, 1437: 1, 1433: 1, 1430: 1, 1428: 1, 1427: 1, 1426: 1, 1422: 1, 1421: 1, 1419: 1, 1417: 1, 1415: 1, 1412: 1, 1411: 1, 1410: 1, 1408: 1, 1401: 1, 1400: 1, 1399: 1, 1398: 1, 1397: 1, 1396: 1, 1393: 1, 1390: 1, 1389: 1, 1387: 1, 1386: 1, 1384: 1, 1383: 1, 1381: 1, 1376: 1, 1374: 1, 1373: 1, 1368: 1, 1367: 1, 1362: 1, 1360: 1, 1359: 1, 1356: 1, 1351: 1, 1348: 1, 1346: 1, 1344: 1, 1342: 1, 1341: 1, 1339: 1, 1336: 1, 1335: 1, 1334: 1, 1330: 1, 1328: 1, 1327: 1, 1326: 1, 1319: 1, 1316: 1, 1311: 1, 1310: 1, 1308: 1, 1301: 1, 1300: 1, 1298: 1, 1293: 1, 1292: 1, 1291: 1, 1288: 1, 1287: 1, 1282: 1, 1281: 1, 1277: 1, 1276: 1, 1273: 1, 1270: 1, 1269: 1, 1267: 1, 1263: 1, 1262: 1, 1258: 1, 1254: 1, 1250: 1, 1241: 1, 1234: 1, 1230: 1, 1223: 1, 1222: 1, 1218: 1, 1213: 1, 1202: 1, 1201: 1, 1199: 1, 1197: 1, 1196: 1, 1191: 1, 1190: 1, 1188: 1, 1187: 1, 1186: 1, 1183: 1, 1179: 1, 1177: 1, 1175: 1, 1174: 1, 1172: 1, 1170: 1, 1167: 1, 1164: 1, 1162: 1, 1160: 1, 1154: 1, 1153: 1, 1145: 1, 1142: 1, 1138: 1, 1137: 1, 1136: 1, 1132: 1, 1131: 1, 1130: 1, 1128: 1, 1124: 1, 1120: 1, 1115: 1, 1113: 1, 1112: 1, 1109: 1, 1103: 1, 1102: 1, 1100: 1, 1099: 1, 1096: 1, 1094: 1, 1092: 1, 1089: 1, 1088: 1, 1084: 1, 1081: 1, 1079: 1, 1075: 1, 1072: 1, 1071: 1, 1069: 1, 1068: 1, 1066: 1, 1061: 1, 1059: 1, 1056: 1, 1049: 1, 1048: 1, 1047: 1, 1046: 1, 1045: 1, 1043: 1, 1041: 1, 1040: 1, 1038: 1, 1037: 1, 1035: 1, 1034: 1, 1032: 1, 1030: 1, 1028: 1, 1027: 1, 1026: 1, 1025: 1, 1024: 1, 1018: 1, 1015: 1, 1013: 1, 1006: 1, 1001: 1, 998: 1, 993: 1, 992: 1, 987: 1, 985: 1, 981: 1, 980: 1, 978: 1, 972: 1, 967: 1, 966: 1, 962: 1, 958: 1, 957: 1, 955: 1, 937: 1, 931: 1, 928: 1, 924: 1, 923: 1, 921: 1, 909: 1, 905: 1, 897: 1, 893: 1, 889: 1, 885: 1, 877: 1, 871: 1, 864: 1, 861: 1, 859: 1, 850: 1, 844: 1, 839: 1, 838: 1, 831: 1, 830: 1, 826: 1, 819: 1, 816: 1, 815: 1, 811: 1, 810: 1, 802: 1, 801: 1, 781: 1, 779: 1, 776: 1, 771: 1, 770: 1, 767: 1, 763: 1, 762: 1, 761: 1, 757: 1, 751: 1, 746: 1, 739: 1, 730: 1, 725: 1, 721: 1, 713: 1, 708: 1, 703: 1, 700: 1, 699: 1, 694: 1, 693: 1, 692: 1, 690: 1, 689: 1, 687: 1, 685: 1, 684: 1, 680: 1, 678: 1, 677: 1, 676: 1, 674: 1, 673: 1, 669: 1, 628: 1, 625: 1, 615: 1, 595: 1, 591: 1, 585: 1, 582: 1, 559: 1, 552: 1, 514: 1, 467: 1, 453: 1, 421: 1})\n"
     ]
    }
   ],
   "source": [
    "# Number of words for a given frequency.\n",
    "print(Counter(sorted_text_occur))"
   ]
  },
  {
   "cell_type": "code",
   "execution_count": 51,
   "id": "ff251a2d",
   "metadata": {},
   "outputs": [
    {
     "name": "stdout",
     "output_type": "stream",
     "text": [
      "For values of alpha =  1e-05 The log loss is: 1.2907661352352098\n",
      "For values of alpha =  0.0001 The log loss is: 1.1471060435820875\n",
      "For values of alpha =  0.0001 The log loss is: 1.1471060435820875\n",
      "For values of alpha =  0.001 The log loss is: 1.1528559682648212\n",
      "For values of alpha =  0.001 The log loss is: 1.1528559682648212\n",
      "For values of alpha =  0.01 The log loss is: 1.2563387073527992\n",
      "For values of alpha =  0.01 The log loss is: 1.2563387073527992\n",
      "For values of alpha =  0.1 The log loss is: 1.4329551166446974\n",
      "For values of alpha =  0.1 The log loss is: 1.4329551166446974\n",
      "For values of alpha =  1 The log loss is: 1.6309494040264538\n",
      "For values of alpha =  1 The log loss is: 1.6309494040264538\n"
     ]
    },
    {
     "data": {
      "image/png": "[encoded data removed]",
      "text/plain": [
       "<Figure size 640x480 with 1 Axes>"
      ]
     },
     "metadata": {},
     "output_type": "display_data"
    },
    {
     "name": "stdout",
     "output_type": "stream",
     "text": [
      "For values of best alpha =  0.0001 The train log loss is: 0.6659096655452862\n",
      "For values of best alpha =  0.0001 The cross validation log loss is: 1.1471060435820875\n",
      "For values of best alpha =  0.0001 The test log loss is: 1.21299598021542\n",
      "For values of best alpha =  0.0001 The test log loss is: 1.21299598021542\n"
     ]
    }
   ],
   "source": [
    "# Train a Logistic regression+Calibration model using text features whicha re on-hot encoded\n",
    "alpha = [10 ** x for x in range(-5, 1)]\n",
    "\n",
    "# read more about SGDClassifier() at http://scikit-learn.org/stable/modules/generated/sklearn.linear_model.SGDClassifier.html\n",
    "# ------------------------------\n",
    "# default parameters\n",
    "# SGDClassifier(loss=’hinge’, penalty=’l2’, alpha=0.0001, l1_ratio=0.15, fit_intercept=True, max_iter=None, tol=None, \n",
    "# shuffle=True, verbose=0, epsilon=0.1, n_jobs=1, random_state=None, learning_rate=’optimal’, eta0=0.0, power_t=0.5, \n",
    "# class_weight=None, warm_start=False, average=False, n_iter=None)\n",
    "\n",
    "# some of methods\n",
    "# fit(X, y[, coef_init, intercept_init, …])\tFit linear model with Stochastic Gradient Descent.\n",
    "# predict(X)\tPredict class labels for samples in X.\n",
    "\n",
    "#-------------------------------\n",
    "# video link: \n",
    "#------------------------------\n",
    "\n",
    "\n",
    "cv_log_error_array=[]\n",
    "for i in alpha:\n",
    "    clf = SGDClassifier(alpha=i, penalty='l2', loss='log_loss', random_state=42)\n",
    "    clf.fit(train_text_feature_onehotCoding, y_train)\n",
    "    \n",
    "    sig_clf = CalibratedClassifierCV(clf, method=\"sigmoid\")\n",
    "    sig_clf.fit(train_text_feature_onehotCoding, y_train)\n",
    "    predict_y = sig_clf.predict_proba(cv_text_feature_onehotCoding)\n",
    "    cv_log_error_array.append(log_loss(y_cv, predict_y, labels=clf.classes_))\n",
    "    print('For values of alpha = ', i, \"The log loss is:\",log_loss(y_cv, predict_y, labels=clf.classes_))\n",
    "\n",
    "fig, ax = plt.subplots()\n",
    "ax.plot(alpha, cv_log_error_array,c='g')\n",
    "for i, txt in enumerate(np.round(cv_log_error_array,3)):\n",
    "    ax.annotate((alpha[i],np.round(txt,3)), (alpha[i],cv_log_error_array[i]))\n",
    "plt.grid()\n",
    "plt.title(\"Cross Validation Error for each alpha\")\n",
    "plt.xlabel(\"Alpha i's\")\n",
    "plt.ylabel(\"Error measure\")\n",
    "plt.show()\n",
    "\n",
    "\n",
    "best_alpha = np.argmin(cv_log_error_array)\n",
    "clf = SGDClassifier(alpha=alpha[best_alpha], penalty='l2', loss='log_loss', random_state=42)\n",
    "clf.fit(train_text_feature_onehotCoding, y_train)\n",
    "sig_clf = CalibratedClassifierCV(clf, method=\"sigmoid\")\n",
    "sig_clf.fit(train_text_feature_onehotCoding, y_train)\n",
    "\n",
    "predict_y = sig_clf.predict_proba(train_text_feature_onehotCoding)\n",
    "print('For values of best alpha = ', alpha[best_alpha], \"The train log loss is:\",log_loss(y_train, predict_y, labels=clf.classes_))\n",
    "predict_y = sig_clf.predict_proba(cv_text_feature_onehotCoding)\n",
    "print('For values of best alpha = ', alpha[best_alpha], \"The cross validation log loss is:\",log_loss(y_cv, predict_y, labels=clf.classes_))\n",
    "predict_y = sig_clf.predict_proba(test_text_feature_onehotCoding)\n",
    "print('For values of best alpha = ', alpha[best_alpha], \"The test log loss is:\",log_loss(y_test, predict_y, labels=clf.classes_))\n"
   ]
  },
  {
   "cell_type": "code",
   "execution_count": 52,
   "id": "e107ad00",
   "metadata": {},
   "outputs": [],
   "source": [
    "def get_intersec_text(df):\n",
    "    df_text_vec = CountVectorizer(min_df=3)\n",
    "    df_text_fea = df_text_vec.fit_transform(df['TEXT'])\n",
    "    df_text_features = df_text_vec.get_feature_names_out()\n",
    "\n",
    "    df_text_fea_counts = df_text_fea.sum(axis=0).A1\n",
    "    df_text_fea_dict = dict(zip(list(df_text_features),df_text_fea_counts))\n",
    "    len1 = len(set(df_text_features))\n",
    "    len2 = len(set(train_text_features) & set(df_text_features))\n",
    "    return len1,len2"
   ]
  },
  {
   "cell_type": "code",
   "execution_count": 53,
   "id": "57645670",
   "metadata": {},
   "outputs": [
    {
     "name": "stdout",
     "output_type": "stream",
     "text": [
      "96.221 % of word of test data appeared in train data\n",
      "97.118 % of word of Cross Validation appeared in train data\n",
      "97.118 % of word of Cross Validation appeared in train data\n"
     ]
    }
   ],
   "source": [
    "len1,len2 = get_intersec_text(test_df)\n",
    "print(np.round((len2/len1)*100, 3), \"% of word of test data appeared in train data\")\n",
    "len1,len2 = get_intersec_text(cv_df)\n",
    "print(np.round((len2/len1)*100, 3), \"% of word of Cross Validation appeared in train data\")"
   ]
  },
  {
   "cell_type": "code",
   "execution_count": 54,
   "id": "022e797d",
   "metadata": {},
   "outputs": [],
   "source": [
    "# Save train one-hot encoded text feature to CSV for understanding\n",
    "dense_array = train_text_feature_onehotCoding.toarray()\n",
    "df = pd.DataFrame(dense_array)\n",
    "\n",
    "df.to_csv('train_text_feature_onehotCoding.csv', index=False)"
   ]
  },
  {
   "cell_type": "code",
   "execution_count": 55,
   "id": "c5bfc70e",
   "metadata": {},
   "outputs": [],
   "source": [
    "\n",
    "train_text_feature_responseCoding = pd.DataFrame(train_text_feature_responseCoding)\n",
    "\n",
    "train_text_feature_responseCoding.to_csv('train_text_feature_responseCoding.csv', index=False)"
   ]
  },
  {
   "cell_type": "code",
   "execution_count": null,
   "id": "92e25060",
   "metadata": {},
   "outputs": [],
   "source": []
  },
  {
   "cell_type": "code",
   "execution_count": null,
   "id": "8b13ea59",
   "metadata": {},
   "outputs": [],
   "source": []
  },
  {
   "cell_type": "code",
   "execution_count": null,
   "id": "ad099c7d",
   "metadata": {},
   "outputs": [],
   "source": []
  },
  {
   "cell_type": "code",
   "execution_count": null,
   "id": "e9e3ddab",
   "metadata": {},
   "outputs": [],
   "source": []
  },
  {
   "cell_type": "code",
   "execution_count": null,
   "id": "fbedade6",
   "metadata": {},
   "outputs": [],
   "source": []
  },
  {
   "cell_type": "code",
   "execution_count": null,
   "id": "d2615ecf",
   "metadata": {},
   "outputs": [],
   "source": []
  },
  {
   "cell_type": "code",
   "execution_count": null,
   "id": "3c0a3933",
   "metadata": {},
   "outputs": [],
   "source": []
  },
  {
   "cell_type": "code",
   "execution_count": null,
   "id": "8d52630d",
   "metadata": {},
   "outputs": [],
   "source": []
  },
  {
   "cell_type": "code",
   "execution_count": null,
   "id": "d350cd73",
   "metadata": {},
   "outputs": [],
   "source": []
  },
  {
   "cell_type": "code",
   "execution_count": null,
   "id": "c52b8897",
   "metadata": {},
   "outputs": [],
   "source": []
  },
  {
   "cell_type": "code",
   "execution_count": null,
   "id": "fdf2d271",
   "metadata": {},
   "outputs": [],
   "source": []
  },
  {
   "cell_type": "code",
   "execution_count": null,
   "id": "27b86510",
   "metadata": {},
   "outputs": [],
   "source": []
  },
  {
   "cell_type": "code",
   "execution_count": null,
   "id": "3937fa99",
   "metadata": {},
   "outputs": [],
   "source": []
  },
  {
   "cell_type": "code",
   "execution_count": null,
   "id": "fbf46a79",
   "metadata": {},
   "outputs": [],
   "source": []
  },
  {
   "cell_type": "code",
   "execution_count": null,
   "id": "8b776555",
   "metadata": {},
   "outputs": [],
   "source": []
  },
  {
   "cell_type": "code",
   "execution_count": null,
   "id": "c23c28f6",
   "metadata": {},
   "outputs": [],
   "source": []
  }
 ],
 "metadata": {
  "kernelspec": {
   "display_name": "base",
   "language": "python",
   "name": "python3"
  },
  "language_info": {
   "codemirror_mode": {
    "name": "ipython",
    "version": 3
   },
   "file_extension": ".py",
   "mimetype": "text/x-python",
   "name": "python",
   "nbconvert_exporter": "python",
   "pygments_lexer": "ipython3",
   "version": "3.12.7"
  }
 },
 "nbformat": 4,
 "nbformat_minor": 5
}
